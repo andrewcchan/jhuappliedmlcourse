{
 "cells": [
  {
   "cell_type": "markdown",
   "metadata": {},
   "source": [
    "# Assignment 10\n",
    "## Applied Machine Learning\n",
    "\n",
    "Andrew Chan \n",
    "EBE869"
   ]
  },
  {
   "cell_type": "markdown",
   "metadata": {},
   "source": [
    "# 1. [10 pts] Download the labeled dataset, \n",
    "if you like use a dummy email address for\n",
    "registration. There must be 8 data files, each representing a particular cyber-attack type\n",
    "and it's day, and it's collected pcap data"
   ]
  },
  {
   "cell_type": "markdown",
   "metadata": {},
   "source": [
    "This assignment assumes that the following 8 .csv files are in the same directory as this notebook:\n",
    "* Friday-WorkingHours-Afternoon-DDos.pcap_ISCX.csv\n",
    "* Friday-WorkingHours-Afternoon-PortScan.pcap_ISCX.csv\n",
    "* Friday-WorkingHours-Morning.pcap_ISCX.csv\n",
    "* Monday-WorkingHours.pcap_ISCX.csv\n",
    "* Thursday-WorkingHours-Afternoon-Infilteration.pcap_ISCX.csv\n",
    "* Thursday-WorkingHours-Morning-WebAttacks.pcap_ISCX.csv\n",
    "* Tuesday-WorkingHours.pcap_ISCX.csv\n",
    "* Wednesday-workingHours.pcap_ISCX.csv"
   ]
  },
  {
   "cell_type": "code",
   "execution_count": 2,
   "metadata": {},
   "outputs": [
    {
     "name": "stdout",
     "output_type": "stream",
     "text": [
      "N rows=225745, M columns=79\n"
     ]
    },
    {
     "data": {
      "text/html": [
       "<div>\n",
       "<style scoped>\n",
       "    .dataframe tbody tr th:only-of-type {\n",
       "        vertical-align: middle;\n",
       "    }\n",
       "\n",
       "    .dataframe tbody tr th {\n",
       "        vertical-align: top;\n",
       "    }\n",
       "\n",
       "    .dataframe thead th {\n",
       "        text-align: right;\n",
       "    }\n",
       "</style>\n",
       "<table border=\"1\" class=\"dataframe\">\n",
       "  <thead>\n",
       "    <tr style=\"text-align: right;\">\n",
       "      <th></th>\n",
       "      <th>Destination Port</th>\n",
       "      <th>Flow Duration</th>\n",
       "      <th>Total Fwd Packets</th>\n",
       "      <th>Total Backward Packets</th>\n",
       "      <th>Total Length of Fwd Packets</th>\n",
       "      <th>Total Length of Bwd Packets</th>\n",
       "      <th>Fwd Packet Length Max</th>\n",
       "      <th>Fwd Packet Length Min</th>\n",
       "      <th>Fwd Packet Length Mean</th>\n",
       "      <th>Fwd Packet Length Std</th>\n",
       "      <th>...</th>\n",
       "      <th>min_seg_size_forward</th>\n",
       "      <th>Active Mean</th>\n",
       "      <th>Active Std</th>\n",
       "      <th>Active Max</th>\n",
       "      <th>Active Min</th>\n",
       "      <th>Idle Mean</th>\n",
       "      <th>Idle Std</th>\n",
       "      <th>Idle Max</th>\n",
       "      <th>Idle Min</th>\n",
       "      <th>Label</th>\n",
       "    </tr>\n",
       "  </thead>\n",
       "  <tbody>\n",
       "    <tr>\n",
       "      <th>0</th>\n",
       "      <td>54865</td>\n",
       "      <td>3</td>\n",
       "      <td>2</td>\n",
       "      <td>0</td>\n",
       "      <td>12</td>\n",
       "      <td>0</td>\n",
       "      <td>6</td>\n",
       "      <td>6</td>\n",
       "      <td>6.0</td>\n",
       "      <td>0.0</td>\n",
       "      <td>...</td>\n",
       "      <td>20</td>\n",
       "      <td>0.0</td>\n",
       "      <td>0.0</td>\n",
       "      <td>0</td>\n",
       "      <td>0</td>\n",
       "      <td>0.0</td>\n",
       "      <td>0.0</td>\n",
       "      <td>0</td>\n",
       "      <td>0</td>\n",
       "      <td>BENIGN</td>\n",
       "    </tr>\n",
       "    <tr>\n",
       "      <th>1</th>\n",
       "      <td>55054</td>\n",
       "      <td>109</td>\n",
       "      <td>1</td>\n",
       "      <td>1</td>\n",
       "      <td>6</td>\n",
       "      <td>6</td>\n",
       "      <td>6</td>\n",
       "      <td>6</td>\n",
       "      <td>6.0</td>\n",
       "      <td>0.0</td>\n",
       "      <td>...</td>\n",
       "      <td>20</td>\n",
       "      <td>0.0</td>\n",
       "      <td>0.0</td>\n",
       "      <td>0</td>\n",
       "      <td>0</td>\n",
       "      <td>0.0</td>\n",
       "      <td>0.0</td>\n",
       "      <td>0</td>\n",
       "      <td>0</td>\n",
       "      <td>BENIGN</td>\n",
       "    </tr>\n",
       "    <tr>\n",
       "      <th>2</th>\n",
       "      <td>55055</td>\n",
       "      <td>52</td>\n",
       "      <td>1</td>\n",
       "      <td>1</td>\n",
       "      <td>6</td>\n",
       "      <td>6</td>\n",
       "      <td>6</td>\n",
       "      <td>6</td>\n",
       "      <td>6.0</td>\n",
       "      <td>0.0</td>\n",
       "      <td>...</td>\n",
       "      <td>20</td>\n",
       "      <td>0.0</td>\n",
       "      <td>0.0</td>\n",
       "      <td>0</td>\n",
       "      <td>0</td>\n",
       "      <td>0.0</td>\n",
       "      <td>0.0</td>\n",
       "      <td>0</td>\n",
       "      <td>0</td>\n",
       "      <td>BENIGN</td>\n",
       "    </tr>\n",
       "    <tr>\n",
       "      <th>3</th>\n",
       "      <td>46236</td>\n",
       "      <td>34</td>\n",
       "      <td>1</td>\n",
       "      <td>1</td>\n",
       "      <td>6</td>\n",
       "      <td>6</td>\n",
       "      <td>6</td>\n",
       "      <td>6</td>\n",
       "      <td>6.0</td>\n",
       "      <td>0.0</td>\n",
       "      <td>...</td>\n",
       "      <td>20</td>\n",
       "      <td>0.0</td>\n",
       "      <td>0.0</td>\n",
       "      <td>0</td>\n",
       "      <td>0</td>\n",
       "      <td>0.0</td>\n",
       "      <td>0.0</td>\n",
       "      <td>0</td>\n",
       "      <td>0</td>\n",
       "      <td>BENIGN</td>\n",
       "    </tr>\n",
       "    <tr>\n",
       "      <th>4</th>\n",
       "      <td>54863</td>\n",
       "      <td>3</td>\n",
       "      <td>2</td>\n",
       "      <td>0</td>\n",
       "      <td>12</td>\n",
       "      <td>0</td>\n",
       "      <td>6</td>\n",
       "      <td>6</td>\n",
       "      <td>6.0</td>\n",
       "      <td>0.0</td>\n",
       "      <td>...</td>\n",
       "      <td>20</td>\n",
       "      <td>0.0</td>\n",
       "      <td>0.0</td>\n",
       "      <td>0</td>\n",
       "      <td>0</td>\n",
       "      <td>0.0</td>\n",
       "      <td>0.0</td>\n",
       "      <td>0</td>\n",
       "      <td>0</td>\n",
       "      <td>BENIGN</td>\n",
       "    </tr>\n",
       "  </tbody>\n",
       "</table>\n",
       "<p>5 rows × 79 columns</p>\n",
       "</div>"
      ],
      "text/plain": [
       "    Destination Port   Flow Duration   Total Fwd Packets  \\\n",
       "0              54865               3                   2   \n",
       "1              55054             109                   1   \n",
       "2              55055              52                   1   \n",
       "3              46236              34                   1   \n",
       "4              54863               3                   2   \n",
       "\n",
       "    Total Backward Packets  Total Length of Fwd Packets  \\\n",
       "0                        0                           12   \n",
       "1                        1                            6   \n",
       "2                        1                            6   \n",
       "3                        1                            6   \n",
       "4                        0                           12   \n",
       "\n",
       "    Total Length of Bwd Packets   Fwd Packet Length Max  \\\n",
       "0                             0                       6   \n",
       "1                             6                       6   \n",
       "2                             6                       6   \n",
       "3                             6                       6   \n",
       "4                             0                       6   \n",
       "\n",
       "    Fwd Packet Length Min   Fwd Packet Length Mean   Fwd Packet Length Std  \\\n",
       "0                       6                      6.0                     0.0   \n",
       "1                       6                      6.0                     0.0   \n",
       "2                       6                      6.0                     0.0   \n",
       "3                       6                      6.0                     0.0   \n",
       "4                       6                      6.0                     0.0   \n",
       "\n",
       "   ...   min_seg_size_forward  Active Mean   Active Std   Active Max  \\\n",
       "0  ...                     20          0.0          0.0            0   \n",
       "1  ...                     20          0.0          0.0            0   \n",
       "2  ...                     20          0.0          0.0            0   \n",
       "3  ...                     20          0.0          0.0            0   \n",
       "4  ...                     20          0.0          0.0            0   \n",
       "\n",
       "    Active Min  Idle Mean   Idle Std   Idle Max   Idle Min   Label  \n",
       "0            0        0.0        0.0          0          0  BENIGN  \n",
       "1            0        0.0        0.0          0          0  BENIGN  \n",
       "2            0        0.0        0.0          0          0  BENIGN  \n",
       "3            0        0.0        0.0          0          0  BENIGN  \n",
       "4            0        0.0        0.0          0          0  BENIGN  \n",
       "\n",
       "[5 rows x 79 columns]"
      ]
     },
     "execution_count": 2,
     "metadata": {},
     "output_type": "execute_result"
    }
   ],
   "source": [
    "%matplotlib inline\n",
    "import matplotlib.pyplot as plt\n",
    "import pandas as pd\n",
    "import math\n",
    "import numpy as np\n",
    "\n",
    "# Locate and load the data file\n",
    "df = pd.read_csv('Friday-WorkingHours-Afternoon-DDos.pcap_ISCX.csv')\n",
    "\n",
    "# Sanity check\n",
    "print(f'N rows={len(df)}, M columns={len(df.columns)}')\n",
    "df.head()"
   ]
  },
  {
   "cell_type": "code",
   "execution_count": 8,
   "metadata": {},
   "outputs": [
    {
     "data": {
      "text/plain": [
       "array([' Destination Port', ' Flow Duration', ' Total Fwd Packets',\n",
       "       ' Total Backward Packets', 'Total Length of Fwd Packets',\n",
       "       ' Total Length of Bwd Packets', ' Fwd Packet Length Max',\n",
       "       ' Fwd Packet Length Min', ' Fwd Packet Length Mean',\n",
       "       ' Fwd Packet Length Std', 'Bwd Packet Length Max',\n",
       "       ' Bwd Packet Length Min', ' Bwd Packet Length Mean',\n",
       "       ' Bwd Packet Length Std', 'Flow Bytes/s', ' Flow Packets/s',\n",
       "       ' Flow IAT Mean', ' Flow IAT Std', ' Flow IAT Max',\n",
       "       ' Flow IAT Min', 'Fwd IAT Total', ' Fwd IAT Mean', ' Fwd IAT Std',\n",
       "       ' Fwd IAT Max', ' Fwd IAT Min', 'Bwd IAT Total', ' Bwd IAT Mean',\n",
       "       ' Bwd IAT Std', ' Bwd IAT Max', ' Bwd IAT Min', 'Fwd PSH Flags',\n",
       "       ' Bwd PSH Flags', ' Fwd URG Flags', ' Bwd URG Flags',\n",
       "       ' Fwd Header Length', ' Bwd Header Length', 'Fwd Packets/s',\n",
       "       ' Bwd Packets/s', ' Min Packet Length', ' Max Packet Length',\n",
       "       ' Packet Length Mean', ' Packet Length Std',\n",
       "       ' Packet Length Variance', 'FIN Flag Count', ' SYN Flag Count',\n",
       "       ' RST Flag Count', ' PSH Flag Count', ' ACK Flag Count',\n",
       "       ' URG Flag Count', ' CWE Flag Count', ' ECE Flag Count',\n",
       "       ' Down/Up Ratio', ' Average Packet Size', ' Avg Fwd Segment Size',\n",
       "       ' Avg Bwd Segment Size', ' Fwd Header Length.1',\n",
       "       'Fwd Avg Bytes/Bulk', ' Fwd Avg Packets/Bulk',\n",
       "       ' Fwd Avg Bulk Rate', ' Bwd Avg Bytes/Bulk',\n",
       "       ' Bwd Avg Packets/Bulk', 'Bwd Avg Bulk Rate',\n",
       "       'Subflow Fwd Packets', ' Subflow Fwd Bytes',\n",
       "       ' Subflow Bwd Packets', ' Subflow Bwd Bytes',\n",
       "       'Init_Win_bytes_forward', ' Init_Win_bytes_backward',\n",
       "       ' act_data_pkt_fwd', ' min_seg_size_forward', 'Active Mean',\n",
       "       ' Active Std', ' Active Max', ' Active Min', 'Idle Mean',\n",
       "       ' Idle Std', ' Idle Max', ' Idle Min', ' Label'], dtype=object)"
      ]
     },
     "execution_count": 8,
     "metadata": {},
     "output_type": "execute_result"
    }
   ],
   "source": [
    "df.columns.values"
   ]
  },
  {
   "cell_type": "code",
   "execution_count": 4,
   "metadata": {},
   "outputs": [],
   "source": [
    "a = df.dtypes"
   ]
  },
  {
   "cell_type": "markdown",
   "metadata": {},
   "source": [
    "# 2. [10 pts] Pick one of the data files, call it Dataset 1, and examine its features. Make sure it has more than one class value for its label"
   ]
  },
  {
   "cell_type": "code",
   "execution_count": 13,
   "metadata": {},
   "outputs": [
    {
     "data": {
      "text/plain": [
       "DDoS      128027\n",
       "BENIGN     97718\n",
       "Name:  Label, dtype: int64"
      ]
     },
     "execution_count": 13,
     "metadata": {},
     "output_type": "execute_result"
    }
   ],
   "source": [
    "df[' Label'].value_counts()"
   ]
  },
  {
   "cell_type": "markdown",
   "metadata": {},
   "source": [
    "# 3. [10 pts] For the Dataset 1, pick a machine learning methodology and justify your choice.\n"
   ]
  },
  {
   "cell_type": "markdown",
   "metadata": {},
   "source": [
    "* I will choose Random Forest Classifier"
   ]
  },
  {
   "cell_type": "markdown",
   "metadata": {},
   "source": [
    "# 4. [10 pts] Process the class feature/category as binary classes for supervised learning, assign BENIGN to value 0 and the rest to value 1. Check its balance for the Dataset 1"
   ]
  },
  {
   "cell_type": "code",
   "execution_count": 14,
   "metadata": {},
   "outputs": [],
   "source": [
    "class_mapping = { 'BENIGN' : 0, 'DDoS' : 1 }"
   ]
  },
  {
   "cell_type": "code",
   "execution_count": 17,
   "metadata": {},
   "outputs": [],
   "source": [
    "df[' Label'] = df[' Label'].map(class_mapping)"
   ]
  },
  {
   "cell_type": "code",
   "execution_count": 20,
   "metadata": {},
   "outputs": [
    {
     "data": {
      "text/plain": [
       "1    128027\n",
       "0     97718\n",
       "Name:  Label, dtype: int64"
      ]
     },
     "execution_count": 20,
     "metadata": {},
     "output_type": "execute_result"
    }
   ],
   "source": [
    "df[' Label'].value_counts()"
   ]
  },
  {
   "cell_type": "markdown",
   "metadata": {},
   "source": []
  },
  {
   "cell_type": "markdown",
   "metadata": {},
   "source": [
    "# Preprocessing"
   ]
  },
  {
   "cell_type": "markdown",
   "metadata": {},
   "source": [
    "## Imputation: Replace `?` with padding"
   ]
  },
  {
   "cell_type": "markdown",
   "metadata": {},
   "source": [
    "## One hot encoding"
   ]
  },
  {
   "cell_type": "code",
   "execution_count": 11,
   "metadata": {},
   "outputs": [
    {
     "data": {
      "text/html": [
       "<div>\n",
       "<style scoped>\n",
       "    .dataframe tbody tr th:only-of-type {\n",
       "        vertical-align: middle;\n",
       "    }\n",
       "\n",
       "    .dataframe tbody tr th {\n",
       "        vertical-align: top;\n",
       "    }\n",
       "\n",
       "    .dataframe thead th {\n",
       "        text-align: right;\n",
       "    }\n",
       "</style>\n",
       "<table border=\"1\" class=\"dataframe\">\n",
       "  <thead>\n",
       "    <tr style=\"text-align: right;\">\n",
       "      <th></th>\n",
       "      <th>Destination Port</th>\n",
       "    </tr>\n",
       "  </thead>\n",
       "  <tbody>\n",
       "    <tr>\n",
       "      <th>0</th>\n",
       "      <td>54865</td>\n",
       "    </tr>\n",
       "    <tr>\n",
       "      <th>1</th>\n",
       "      <td>55054</td>\n",
       "    </tr>\n",
       "    <tr>\n",
       "      <th>2</th>\n",
       "      <td>55055</td>\n",
       "    </tr>\n",
       "    <tr>\n",
       "      <th>3</th>\n",
       "      <td>46236</td>\n",
       "    </tr>\n",
       "    <tr>\n",
       "      <th>4</th>\n",
       "      <td>54863</td>\n",
       "    </tr>\n",
       "  </tbody>\n",
       "</table>\n",
       "</div>"
      ],
      "text/plain": [
       "    Destination Port\n",
       "0              54865\n",
       "1              55054\n",
       "2              55055\n",
       "3              46236\n",
       "4              54863"
      ]
     },
     "execution_count": 11,
     "metadata": {},
     "output_type": "execute_result"
    }
   ],
   "source": [
    "df_no_target = pd.get_dummies(df[[' Destination Port']], drop_first = True)\n",
    "df_no_target.head()"
   ]
  },
  {
   "cell_type": "code",
   "execution_count": 7,
   "metadata": {},
   "outputs": [],
   "source": [
    "from sklearn.preprocessing import LabelEncoder\n",
    "le = LabelEncoder()\n",
    "df_y = df['class']\n",
    "df_X = df_no_target\n",
    "y = le.fit_transform(df_y.values)\n",
    "X = df_X.values"
   ]
  },
  {
   "cell_type": "code",
   "execution_count": 8,
   "metadata": {},
   "outputs": [
    {
     "data": {
      "text/plain": [
       "array(['e', 'p'], dtype=object)"
      ]
     },
     "execution_count": 8,
     "metadata": {},
     "output_type": "execute_result"
    }
   ],
   "source": [
    "le.classes_"
   ]
  },
  {
   "cell_type": "markdown",
   "metadata": {},
   "source": [
    "# 1.  [70 pts] By using at least 4 classifiers and 5 different hyper-parameter settings for each, generate operating points and plot them on ROC.\n",
    "\n",
    "Do not hesitate to use/modify the ROC\n",
    "plot code in the module notebook. In case you do not see enough variety in Pd-Pf you\n",
    "might need to work on the classifiers set and/or hyper parameters. And do not hesitate to\n",
    "try hundreds if necessary, since the ROC is just a natural scatter plot. (Recommend linear\n",
    "SVM, RBF SVM, logistic regression, random forest, etc.)"
   ]
  },
  {
   "cell_type": "code",
   "execution_count": 9,
   "metadata": {},
   "outputs": [],
   "source": [
    "from sklearn.model_selection import train_test_split\n",
    "from sklearn.metrics import confusion_matrix\n",
    "from sklearn.pipeline import make_pipeline\n",
    "from sklearn.metrics import auc"
   ]
  },
  {
   "cell_type": "code",
   "execution_count": 10,
   "metadata": {},
   "outputs": [],
   "source": [
    "X_train, X_test, y_train, y_test = train_test_split(X, y, test_size = 0.99, random_state=0)"
   ]
  },
  {
   "cell_type": "code",
   "execution_count": 11,
   "metadata": {},
   "outputs": [
    {
     "data": {
      "text/plain": [
       "(81,)"
      ]
     },
     "execution_count": 11,
     "metadata": {},
     "output_type": "execute_result"
    }
   ],
   "source": [
    "y_train.shape"
   ]
  },
  {
   "cell_type": "code",
   "execution_count": 12,
   "metadata": {},
   "outputs": [
    {
     "data": {
      "text/plain": [
       "(8043,)"
      ]
     },
     "execution_count": 12,
     "metadata": {},
     "output_type": "execute_result"
    }
   ],
   "source": [
    "y_test.shape"
   ]
  },
  {
   "cell_type": "code",
   "execution_count": 13,
   "metadata": {},
   "outputs": [
    {
     "data": {
      "text/plain": [
       "(81, 94)"
      ]
     },
     "execution_count": 13,
     "metadata": {},
     "output_type": "execute_result"
    }
   ],
   "source": [
    "X_train.shape"
   ]
  },
  {
   "cell_type": "code",
   "execution_count": 14,
   "metadata": {},
   "outputs": [
    {
     "data": {
      "text/plain": [
       "(8043, 94)"
      ]
     },
     "execution_count": 14,
     "metadata": {},
     "output_type": "execute_result"
    }
   ],
   "source": [
    "X_test.shape"
   ]
  },
  {
   "cell_type": "markdown",
   "metadata": {},
   "source": [
    "## Linear SVM"
   ]
  },
  {
   "cell_type": "code",
   "execution_count": 15,
   "metadata": {},
   "outputs": [
    {
     "data": {
      "text/plain": [
       "LinearSVC(random_state=0)"
      ]
     },
     "execution_count": 15,
     "metadata": {},
     "output_type": "execute_result"
    }
   ],
   "source": [
    "from sklearn.svm import LinearSVC\n",
    "from sklearn import metrics\n",
    "clf = LinearSVC(random_state=0)\n",
    "clf.fit(X_train, y_train)"
   ]
  },
  {
   "cell_type": "code",
   "execution_count": 16,
   "metadata": {},
   "outputs": [],
   "source": [
    "predicted = clf.predict(X_test)"
   ]
  },
  {
   "cell_type": "code",
   "execution_count": 17,
   "metadata": {
    "scrolled": true
   },
   "outputs": [
    {
     "name": "stdout",
     "output_type": "stream",
     "text": [
      "Classification report for classifier LinearSVC(random_state=0):\n",
      "0.9629491483277384\n",
      "\n"
     ]
    }
   ],
   "source": [
    "print(f'Classification report for classifier {clf}:\\n{metrics.accuracy_score(y_test, predicted)}\\n')"
   ]
  },
  {
   "cell_type": "code",
   "execution_count": 18,
   "metadata": {},
   "outputs": [
    {
     "name": "stdout",
     "output_type": "stream",
     "text": [
      "Test Accuracy= 0.897, C=      0.00200, TPR 0.791, FPR 0.005\n",
      "Test Accuracy= 0.963, C=      0.20000, TPR 0.969, FPR 0.044\n",
      "Test Accuracy= 0.963, C=      1.00000, TPR 0.969, FPR 0.043\n",
      "Test Accuracy= 0.963, C=      5.00000, TPR 0.969, FPR 0.042\n",
      "Test Accuracy= 0.963, C=     10.00000, TPR 0.969, FPR 0.042\n",
      "Test Accuracy= 0.963, C=    100.00000, TPR 0.969, FPR 0.042\n",
      "Test Accuracy= 0.963, C=   1000.00000, TPR 0.969, FPR 0.042\n",
      "Test Accuracy= 0.963, C= 100000.00000, TPR 0.969, FPR 0.042\n"
     ]
    }
   ],
   "source": [
    "from sklearn.svm import SVC\n",
    "def calc_roc_svc (C, X_train,X_test,y_train,y_test):\n",
    "    # Let's vary C and generate training/testing sessions to collect data for ROC\n",
    "    FPR, TPR = [], []\n",
    "    for c in C:\n",
    "        pipe_lr = LinearSVC(random_state=0,C=c)\n",
    "        pipe_lr.fit(X_train, y_train)\n",
    "        y_pred = pipe_lr.predict(X_test)\n",
    "        tn, fp, fn, tp = confusion_matrix(y_test, y_pred).ravel()\n",
    "        TPR += [tp/(tp+fn)]  # Pd\n",
    "        FPR += [fp/(fp+tn)]  # Pf\n",
    "        #\n",
    "        print(f'Test Accuracy= {pipe_lr.score(X_test, y_test):.3f}, C={c:13.5f}, TPR {TPR[-1]:.3f}, FPR {FPR[-1]:.3f}')\n",
    "    FPR, TPR = zip(*sorted(zip(FPR, TPR)))\n",
    "    fpr = [0.]+list(FPR)+[1.]\n",
    "    tpr = [0.]+list(TPR)+[1.]\n",
    "    roc_auc = auc(fpr,tpr)\n",
    "    return TPR,FPR,tpr,fpr, roc_auc\n",
    "\n",
    "# Parameter to vary for Logistic Regression\n",
    "C_svc = [2e-3, 2e-1, 1, 5, 10, 100, 1000, 1e5]\n",
    "TPR_svc,FPR_svc,tpr_svc,fpr_svc,roc_auc_svc = calc_roc_svc(C_svc,X_train,X_test,y_train,y_test)"
   ]
  },
  {
   "cell_type": "markdown",
   "metadata": {},
   "source": [
    "## RBF SVM"
   ]
  },
  {
   "cell_type": "code",
   "execution_count": 19,
   "metadata": {},
   "outputs": [],
   "source": [
    "# Vary C"
   ]
  },
  {
   "cell_type": "code",
   "execution_count": 20,
   "metadata": {},
   "outputs": [
    {
     "name": "stdout",
     "output_type": "stream",
     "text": [
      "Test Accuracy= 0.893, C=      0.20000, TPR 0.780, FPR 0.001\n",
      "Test Accuracy= 0.915, C=      0.50000, TPR 0.845, FPR 0.021\n",
      "Test Accuracy= 0.926, C=      0.80000, TPR 0.888, FPR 0.038\n",
      "Test Accuracy= 0.935, C=      1.00000, TPR 0.907, FPR 0.039\n",
      "Test Accuracy= 0.962, C=      2.00000, TPR 0.964, FPR 0.040\n",
      "Test Accuracy= 0.963, C=      5.00000, TPR 0.966, FPR 0.040\n",
      "Test Accuracy= 0.963, C=     10.00000, TPR 0.966, FPR 0.040\n",
      "Test Accuracy= 0.963, C=     20.00000, TPR 0.966, FPR 0.040\n",
      "Test Accuracy= 0.963, C=   1000.00000, TPR 0.966, FPR 0.040\n"
     ]
    }
   ],
   "source": [
    "from sklearn.svm import SVC\n",
    "def calc_roc_rbf (C, X_train,X_test,y_train,y_test):\n",
    "    # Let's vary C and generate training/testing sessions to collect data for ROC\n",
    "    FPR, TPR = [], []\n",
    "    for c in C:\n",
    "        pipe_lr = SVC(kernel = 'rbf',random_state=0,C=c)\n",
    "        pipe_lr.fit(X_train, y_train)\n",
    "        y_pred = pipe_lr.predict(X_test)\n",
    "        tn, fp, fn, tp = confusion_matrix(y_test, y_pred).ravel()\n",
    "        TPR += [tp/(tp+fn)]  # Pd\n",
    "        FPR += [fp/(fp+tn)]  # Pf\n",
    "        #\n",
    "        print(f'Test Accuracy= {pipe_lr.score(X_test, y_test):.3f}, C={c:13.5f}, TPR {TPR[-1]:.3f}, FPR {FPR[-1]:.3f}')\n",
    "    FPR, TPR = zip(*sorted(zip(FPR, TPR)))\n",
    "    fpr = [0.]+list(FPR)+[1.]\n",
    "    tpr = [0.]+list(TPR)+[1.]\n",
    "    roc_auc = auc(fpr,tpr)\n",
    "    return TPR,FPR,tpr,fpr, roc_auc\n",
    "\n",
    "# Parameter to vary for Logistic Regression\n",
    "C_rbf = [2e-1, 0.5, 0.8, 1, 2, 5, 1e1, 2e1, 1e3]\n",
    "TPR_rbf,FPR_rbf,tpr_rbf,fpr_rbf,roc_auc_rbf = calc_roc_rbf(C_rbf,X_train,X_test,y_train,y_test)"
   ]
  },
  {
   "cell_type": "markdown",
   "metadata": {},
   "source": [
    "## Random Forest"
   ]
  },
  {
   "cell_type": "code",
   "execution_count": 21,
   "metadata": {},
   "outputs": [
    {
     "name": "stdout",
     "output_type": "stream",
     "text": [
      "Test Accuracy= 0.900, n_estimators=      1.00000, TPR 0.841, FPR 0.046\n",
      "Test Accuracy= 0.930, n_estimators=      5.00000, TPR 0.901, FPR 0.043\n",
      "Test Accuracy= 0.922, n_estimators=     10.00000, TPR 0.881, FPR 0.039\n",
      "Test Accuracy= 0.938, n_estimators=     20.00000, TPR 0.911, FPR 0.037\n",
      "Test Accuracy= 0.952, n_estimators=     50.00000, TPR 0.934, FPR 0.032\n",
      "Test Accuracy= 0.961, n_estimators=    100.00000, TPR 0.948, FPR 0.027\n",
      "Test Accuracy= 0.973, n_estimators=    500.00000, TPR 0.973, FPR 0.028\n",
      "Test Accuracy= 0.969, n_estimators=   1000.00000, TPR 0.972, FPR 0.033\n",
      "Test Accuracy= 0.971, n_estimators=  10000.00000, TPR 0.973, FPR 0.031\n"
     ]
    }
   ],
   "source": [
    "from sklearn.ensemble import RandomForestClassifier\n",
    "def calc_roc_rf (C, X_train,X_test,y_train,y_test):\n",
    "    # Let's vary C and generate training/testing sessions to collect data for ROC\n",
    "    FPR, TPR = [], []\n",
    "    for c in C:\n",
    "        pipe_lr = RandomForestClassifier(random_state=0,n_estimators=c,n_jobs=-1)\n",
    "        pipe_lr.fit(X_train, y_train)\n",
    "        y_pred = pipe_lr.predict(X_test)\n",
    "        tn, fp, fn, tp = confusion_matrix(y_test, y_pred).ravel()\n",
    "        TPR += [tp/(tp+fn)]  # Pd\n",
    "        FPR += [fp/(fp+tn)]  # Pf\n",
    "        #\n",
    "        print(f'Test Accuracy= {pipe_lr.score(X_test, y_test):.3f}, n_estimators={c:13.5f}, TPR {TPR[-1]:.3f}, FPR {FPR[-1]:.3f}')\n",
    "    FPR, TPR = zip(*sorted(zip(FPR, TPR)))\n",
    "    fpr = [0.]+list(FPR)+[1.]\n",
    "    tpr = [0.]+list(TPR)+[1.]\n",
    "    roc_auc = auc(fpr,tpr)\n",
    "    return TPR,FPR,tpr,fpr, roc_auc\n",
    "\n",
    "# Parameter to vary for Logistic Regression\n",
    "n_rf = [1,5,10,20,50,100, 500,1000,10000]\n",
    "TPR_rf,FPR_rf,tpr_rf,fpr_rf,roc_auc_rf = calc_roc_rf(n_rf,X_train,X_test,y_train,y_test)"
   ]
  },
  {
   "cell_type": "markdown",
   "metadata": {},
   "source": [
    "## LogisticRegression"
   ]
  },
  {
   "cell_type": "code",
   "execution_count": 22,
   "metadata": {},
   "outputs": [
    {
     "name": "stdout",
     "output_type": "stream",
     "text": [
      "Test Accuracy= 0.973, C=      0.20000, TPR 0.969, FPR 0.023\n",
      "Test Accuracy= 0.973, C=      0.50000, TPR 0.969, FPR 0.023\n",
      "Test Accuracy= 0.973, C=      0.80000, TPR 0.969, FPR 0.023\n",
      "Test Accuracy= 0.973, C=      1.00000, TPR 0.969, FPR 0.023\n",
      "Test Accuracy= 0.970, C=      2.00000, TPR 0.968, FPR 0.029\n",
      "Test Accuracy= 0.963, C=      5.00000, TPR 0.960, FPR 0.035\n",
      "Test Accuracy= 0.963, C=     10.00000, TPR 0.960, FPR 0.035\n",
      "Test Accuracy= 0.966, C=     20.00000, TPR 0.960, FPR 0.029\n",
      "Test Accuracy= 0.966, C=   1000.00000, TPR 0.978, FPR 0.044\n"
     ]
    }
   ],
   "source": [
    "from sklearn.linear_model import LogisticRegression\n",
    "\n",
    "def calc_roc_lr (C, X_train,X_test,y_train,y_test):\n",
    "    # Let's vary C and generate training/testing sessions to collect data for ROC\n",
    "    FPR, TPR = [], []\n",
    "    for c in C:\n",
    "        pipe_lr = LogisticRegression(random_state=14,\n",
    "                       penalty='l1',\n",
    "                       solver='liblinear',\n",
    "                       class_weight='balanced',\n",
    "                       multi_class='auto',\n",
    "                       C = c,\n",
    "                       max_iter=10000)\n",
    "        pipe_lr.fit(X_train, y_train)\n",
    "        y_pred = pipe_lr.predict(X_test)\n",
    "        tn, fp, fn, tp = confusion_matrix(y_test, y_pred).ravel()\n",
    "        TPR += [tp/(tp+fn)]  # Pd\n",
    "        FPR += [fp/(fp+tn)]  # Pf\n",
    "        #\n",
    "        print(f'Test Accuracy= {pipe_lr.score(X_test, y_test):.3f}, C={c:13.5f}, TPR {TPR[-1]:.3f}, FPR {FPR[-1]:.3f}')\n",
    "    FPR, TPR = zip(*sorted(zip(FPR, TPR)))\n",
    "    fpr = [0.]+list(FPR)+[1.]\n",
    "    tpr = [0.]+list(TPR)+[1.]\n",
    "    roc_auc = auc(fpr,tpr)\n",
    "    return TPR,FPR,tpr,fpr, roc_auc\n",
    "\n",
    "# Parameter to vary for Logistic Regression\n",
    "C = [2e-1, 0.5, 0.8, 1, 2, 5, 1e1, 2e1, 1e3]\n",
    "TPR_lr,FPR_lr,tpr_lr,fpr_lr,roc_auc_lr = calc_roc_lr(C,X_train,X_test,y_train,y_test)"
   ]
  },
  {
   "cell_type": "code",
   "execution_count": 23,
   "metadata": {},
   "outputs": [
    {
     "data": {
      "text/plain": [
       "([0.0,\n",
       "  0.9690801339860861,\n",
       "  0.9690801339860861,\n",
       "  0.9690801339860861,\n",
       "  0.9690801339860861,\n",
       "  0.9598041741819119,\n",
       "  0.9680494717856223,\n",
       "  0.9598041741819119,\n",
       "  0.9598041741819119,\n",
       "  0.9778407626900284,\n",
       "  1.0],\n",
       " [0.0,\n",
       "  0.023065833733781835,\n",
       "  0.023065833733781835,\n",
       "  0.023065833733781835,\n",
       "  0.023065833733781835,\n",
       "  0.028832292167227293,\n",
       "  0.028832292167227293,\n",
       "  0.03459875060067275,\n",
       "  0.03459875060067275,\n",
       "  0.044209514656415184,\n",
       "  1.0])"
      ]
     },
     "execution_count": 23,
     "metadata": {},
     "output_type": "execute_result"
    }
   ],
   "source": [
    "tpr_lr,fpr_lr"
   ]
  },
  {
   "cell_type": "markdown",
   "metadata": {},
   "source": [
    "## Plotting ALL"
   ]
  },
  {
   "cell_type": "code",
   "execution_count": 24,
   "metadata": {},
   "outputs": [
    {
     "data": {
      "image/png": "[encoded data removed]",
      "text/plain": [
       "<Figure size 1080x720 with 1 Axes>"
      ]
     },
     "metadata": {
      "needs_background": "light"
     },
     "output_type": "display_data"
    }
   ],
   "source": [
    "# Plot\n",
    "plt.figure(figsize=(15,10))\n",
    "plt.plot(fpr_svc, tpr_svc, ':', color='red', label='ROC Linear SVC (auc = %0.2f)'% roc_auc_svc)\n",
    "plt.plot(fpr_lr, tpr_lr, ':',  color='blue',label='ROC Logistic Regression (auc = %0.2f)'% roc_auc_lr)\n",
    "plt.plot(fpr_rbf, tpr_rbf, ':',  color='green',label='ROC RBF SVM (auc = %0.2f)'% roc_auc_rbf)\n",
    "plt.plot(fpr_rf, tpr_rf, ':',  color='orange',label='ROC Random Forest (auc = %0.2f)'% roc_auc_rf)\n",
    "plt.scatter(FPR_svc, TPR_svc, 70, color='red', marker='s', label='Linear SVC operating points')\n",
    "plt.scatter(FPR_lr, TPR_lr, 70,  color='blue', marker='o',label='Logistic Regression operating points',facecolors='none')\n",
    "plt.scatter(FPR_rbf, TPR_rbf, 70,  color='green', marker='v',label='RBF SVM operating points',facecolors='none')\n",
    "plt.scatter(FPR_rf, TPR_rf, 70,  color='orange', marker='*',label='Random Forest operating points')\n",
    "plt.plot([0, 1], [0, 1], linestyle='--', color=(0.6, 0.6, 0.6), label='coin flip')\n",
    "\n",
    "# Annotate certain operating points\n",
    "plt.annotate('OP Linear SVC 8', xy=(fpr_svc[8], tpr_svc[8]), xytext=(fpr_svc[8]+.2, tpr_svc[8]*0.8), arrowprops=dict(arrowstyle=\"->\",color='red'))\n",
    "plt.annotate('OP Logistic Regression 9', xy=(fpr_lr[9], tpr_lr[9]), xytext=(fpr_lr[9]+0.1, tpr_lr[9]*1.05), arrowprops=dict(arrowstyle=\"->\",color='blue'))\n",
    "plt.annotate('OP RBF SVM 1', xy=(fpr_rbf[1], tpr_rbf[1]), xytext=(fpr_rbf[1]+0.1, tpr_rbf[1]*0.8), arrowprops=dict(arrowstyle=\"->\",color='green'))\n",
    "plt.annotate('OP Random Forest 7', xy=(fpr_rf[7], tpr_rf[7]), xytext=(fpr_rf[7]+0.1,tpr_rf[7]*0.8), arrowprops=dict(arrowstyle=\"->\",color='orange'))\n",
    "\n",
    "# Labels\n",
    "plt.title('ROC Curve for Posinous Mushrooms')\n",
    "plt.xlabel('False Positive Rate')\n",
    "plt.ylabel('True Positive Rate')\n",
    "plt.legend(loc='lower right')\n",
    "plt.grid()\n",
    "plt.show()"
   ]
  },
  {
   "cell_type": "markdown",
   "metadata": {},
   "source": [
    "# 2. [10 pts] What kind of behavior would you expect to see in Pd – Pf interaction of an ROC plot? Do you see it in yours?"
   ]
  },
  {
   "cell_type": "markdown",
   "metadata": {},
   "source": [
    "## Answer\n",
    "There are 3 situations for the ROC:\n",
    "1. The ROC curves up towards the top left corner (0,1). The best classifier would have an AUC of 1.\n",
    "2. The ROC has a slope of 1, which is the grey line that cuts across the middle from (0,0) to (1,1), which is no better than a coin flip. This gives an AUC of 0.5.\n",
    "3. The ROC curves down towards the bottom right corner (1,0). This means that there is something wrong with our code since there would be an AUC of less than 0.5 and this is worse than a coin flip.\n",
    "\n",
    "I would expect that the ROC plot must curve towards to the top left corner (0,1) since that would create an Area Under the Curve of larger than 0.5, which is the middle grey line (of slope 1) which is no better than a coin flip. **All of the models in this example have that shape of suituation 1**, which is expected!"
   ]
  },
  {
   "cell_type": "markdown",
   "metadata": {},
   "source": [
    "# 3. [20 pts] From the ROC plot that you created make a selection of the classifier and hyperparameter setting for this problem. \n",
    "\n",
    "Note that we are classifying mushrooms so your\n",
    "conclusion might be subjective but has to be supported by your findings"
   ]
  },
  {
   "cell_type": "markdown",
   "metadata": {},
   "source": [
    "## Answer\n",
    "\n",
    "I choose `Logistic Regression` with `C = 1e3` as it has the highest `True Positive Rate` of `0.97`. As we can see, it is the blue points and has one of the **highest Area Under the Curve** at `0.98`. The whole graph is also closest to the top left corner versus all other models. Although this also has the highest `False Positive Rate` of `0.04`, I believe it is justified since I'd rather be overly cautious and assume that a mushroom is `poisonious` and not eat it when it may actually be `edible`. This is acceptable and similar to the Breast Cancer Dataset where one would accept false positives over false negatives."
   ]
  }
 ],
 "metadata": {
  "kernelspec": {
   "display_name": "Python 3",
   "language": "python",
   "name": "python3"
  },
  "language_info": {
   "codemirror_mode": {
    "name": "ipython",
    "version": 3
   },
   "file_extension": ".py",
   "mimetype": "text/x-python",
   "name": "python",
   "nbconvert_exporter": "python",
   "pygments_lexer": "ipython3",
   "version": "3.7.9"
  }
 },
 "nbformat": 4,
 "nbformat_minor": 4
}
