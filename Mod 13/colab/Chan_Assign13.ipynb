{
  "nbformat": 4,
  "nbformat_minor": 0,
  "metadata": {
    "colab": {
      "name": "Chan-Assign13.ipynb",
      "provenance": [],
      "collapsed_sections": [],
      "toc_visible": true
    },
    "kernelspec": {
      "name": "python3",
      "display_name": "Python 3"
    },
    "language_info": {
      "name": "python"
    }
  },
  "cells": [
    {
      "cell_type": "code",
      "metadata": {
        "colab": {
          "base_uri": "https://localhost:8080/"
        },
        "id": "iJg5agtD4NTU",
        "outputId": "1ebf8657-0c27-4d13-fb71-47d8583938c7"
      },
      "source": [
        "%matplotlib inline\n",
        "import matplotlib.pyplot as plt\n",
        "import numpy as np\n",
        "\n",
        "import torch\n",
        "\n",
        "print(f'PyTorch version= {torch.__version__}')\n",
        "print(f'CUDA available= {torch.cuda.is_available()}')"
      ],
      "execution_count": 101,
      "outputs": [
        {
          "output_type": "stream",
          "text": [
            "PyTorch version= 1.8.1+cu101\n",
            "CUDA available= False\n"
          ],
          "name": "stdout"
        }
      ]
    },
    {
      "cell_type": "code",
      "metadata": {
        "colab": {
          "base_uri": "https://localhost:8080/"
        },
        "id": "bux0od6D4PG4",
        "outputId": "e3ae672d-70b8-46fb-9f2d-118c97a88998"
      },
      "source": [
        "# A helper function to display properties of the Python objects\n",
        "def describe(x):\n",
        "    print(f\"Type= {x.type()}\")\n",
        "    print(f\"Shape/size= {x.shape}\")\n",
        "    print(f\"Values= {x}\")\n",
        "\n",
        "# Random tensor, has dummy values from the computer memory - not initialized\n",
        "describe(torch.Tensor(2, 3))"
      ],
      "execution_count": 102,
      "outputs": [
        {
          "output_type": "stream",
          "text": [
            "Type= torch.FloatTensor\n",
            "Shape/size= torch.Size([2, 3])\n",
            "Values= tensor([[-3.9123e-30,  3.0812e-41,  4.4842e-44],\n",
            "        [ 4.4842e-44,  4.4842e-44,  4.4842e-44]])\n"
          ],
          "name": "stdout"
        }
      ]
    },
    {
      "cell_type": "code",
      "metadata": {
        "id": "ffF8kylWsPWr"
      },
      "source": [
        "import librosa\n",
        "import librosa.display"
      ],
      "execution_count": 103,
      "outputs": []
    },
    {
      "cell_type": "code",
      "metadata": {
        "colab": {
          "base_uri": "https://localhost:8080/"
        },
        "id": "ajxDYwvDxjfo",
        "outputId": "93f5d080-cf81-4b8f-debc-e70fbffb2cf5"
      },
      "source": [
        "from google.colab import drive\n",
        "drive.mount(\"/content/drive\")\n"
      ],
      "execution_count": 104,
      "outputs": [
        {
          "output_type": "stream",
          "text": [
            "Drive already mounted at /content/drive; to attempt to forcibly remount, call drive.mount(\"/content/drive\", force_remount=True).\n"
          ],
          "name": "stdout"
        }
      ]
    },
    {
      "cell_type": "markdown",
      "metadata": {
        "id": "deDoK9Yiup4Q"
      },
      "source": [
        "# 1. [20 pts] Pre-process a single file using 20 frequency bins (i.e. M), and 2000 sampling frequency (controls the number of data points)\n",
        "\n",
        "cat_1.wav file (signal) will generate 20 features, and 44 data points. Note that 2000Hz\n",
        "sampling frequency in fact would ignore frequencies higher than 1000Hz and we assume\n",
        "cats and dogs sounds are less than that range. Changing that limit to 3k, and 4k are\n",
        "suggested, but then this will increase the number of data points to be processed.\n",
        "Display the spectrogram in your notebook"
      ]
    },
    {
      "cell_type": "code",
      "metadata": {
        "id": "7qCfIJu7xED6"
      },
      "source": [
        "Path_dataset = '/content/drive/MyDrive/JHU/AppliedMachineLearning/audioCatsDog/cats_dogs/'\n",
        "SAMPLING_FRQ = 2000\n",
        "M = 20\n",
        "\n"
      ],
      "execution_count": 105,
      "outputs": []
    },
    {
      "cell_type": "code",
      "metadata": {
        "colab": {
          "base_uri": "https://localhost:8080/",
          "height": 296
        },
        "id": "6DZyej_k42r1",
        "outputId": "324e3eb0-3c71-41d4-b654-500162f01027"
      },
      "source": [
        "x, fs = librosa.load(Path_dataset+'cat_1.wav', sr=SAMPLING_FRQ)\n",
        "mfccs = librosa.feature.mfcc(x, sr=fs, n_mfcc=M)\n",
        "librosa.display.specshow(mfccs, sr=fs, x_axis='time')"
      ],
      "execution_count": 106,
      "outputs": [
        {
          "output_type": "execute_result",
          "data": {
            "text/plain": [
              "<matplotlib.collections.QuadMesh at 0x7f96d31bb990>"
            ]
          },
          "metadata": {
            "tags": []
          },
          "execution_count": 106
        },
        {
          "output_type": "display_data",
          "data": {
            "image/png": "[encoded data removed]",
            "text/plain": [
              "<Figure size 432x288 with 1 Axes>"
            ]
          },
          "metadata": {
            "tags": [],
            "needs_background": "light"
          }
        }
      ]
    },
    {
      "cell_type": "markdown",
      "metadata": {
        "id": "fc4CDRV2z1nj"
      },
      "source": [
        "# 2. [20 pts] For each wav file, you will have multiple data points, as generated by the librosa.feature.mfcc. \n",
        "\n",
        "Generate the X and y matrices for supervised learning. Apply your\n",
        "favorite classifier and comment about your results. (Hint: Expect 80-90% 10-fold CV\n",
        "accuracy, and N, M = 7634, 20)"
      ]
    },
    {
      "cell_type": "code",
      "metadata": {
        "colab": {
          "base_uri": "https://localhost:8080/"
        },
        "id": "v_2ldRzJz5lB",
        "outputId": "287f3f30-3b9f-454a-efe9-7aeef522f796"
      },
      "source": [
        "mfccs.shape"
      ],
      "execution_count": 107,
      "outputs": [
        {
          "output_type": "execute_result",
          "data": {
            "text/plain": [
              "(20, 44)"
            ]
          },
          "metadata": {
            "tags": []
          },
          "execution_count": 107
        }
      ]
    },
    {
      "cell_type": "code",
      "metadata": {
        "colab": {
          "base_uri": "https://localhost:8080/"
        },
        "id": "roNGT38K_T55",
        "outputId": "b5d56a13-4368-40f2-8808-ed16de2141f7"
      },
      "source": [
        "mfccs[:,0].shape"
      ],
      "execution_count": 108,
      "outputs": [
        {
          "output_type": "execute_result",
          "data": {
            "text/plain": [
              "(20,)"
            ]
          },
          "metadata": {
            "tags": []
          },
          "execution_count": 108
        }
      ]
    },
    {
      "cell_type": "code",
      "metadata": {
        "id": "s7l3ktx80InL"
      },
      "source": [
        "import os\n",
        "\n",
        "directory = os.path.join(Path_dataset)"
      ],
      "execution_count": 109,
      "outputs": []
    },
    {
      "cell_type": "markdown",
      "metadata": {
        "id": "P8oTbwZS7NPF"
      },
      "source": [
        "Create X,y"
      ]
    },
    {
      "cell_type": "code",
      "metadata": {
        "colab": {
          "base_uri": "https://localhost:8080/"
        },
        "id": "P3Mzr9sf47YS",
        "outputId": "c5f3f42c-b158-4eee-9e1a-f98750839c19"
      },
      "source": [
        "%%time\n",
        "X_list = []\n",
        "y_list = []\n",
        "for root,dirs,files in os.walk(directory):\n",
        "    for file in files:\n",
        "       if file.endswith(\".wav\"):\n",
        "         x, fs = librosa.load(Path_dataset+file, sr=SAMPLING_FRQ)\n",
        "         mfccs = librosa.feature.mfcc(x, sr=fs, n_mfcc=M)\n",
        "         for i in range(mfccs.shape[1]):\n",
        "           X_list.append(mfccs[:,i])\n",
        "           if file.startswith(\"cat\"):\n",
        "             y_list.append(0)\n",
        "           elif file.startswith(\"dog\"):\n",
        "             y_list.append(1)\n",
        "    break # avoid recursion"
      ],
      "execution_count": 110,
      "outputs": [
        {
          "output_type": "stream",
          "text": [
            "/usr/local/lib/python3.7/dist-packages/librosa/core/spectrum.py:224: UserWarning: n_fft=2048 is too small for input signal of length=1884\n",
            "  n_fft, y.shape[-1]\n",
            "/usr/local/lib/python3.7/dist-packages/librosa/core/spectrum.py:224: UserWarning: n_fft=2048 is too small for input signal of length=1847\n",
            "  n_fft, y.shape[-1]\n",
            "/usr/local/lib/python3.7/dist-packages/librosa/core/spectrum.py:224: UserWarning: n_fft=2048 is too small for input signal of length=1969\n",
            "  n_fft, y.shape[-1]\n",
            "/usr/local/lib/python3.7/dist-packages/librosa/core/spectrum.py:224: UserWarning: n_fft=2048 is too small for input signal of length=1960\n",
            "  n_fft, y.shape[-1]\n",
            "/usr/local/lib/python3.7/dist-packages/librosa/core/spectrum.py:224: UserWarning: n_fft=2048 is too small for input signal of length=2032\n",
            "  n_fft, y.shape[-1]\n"
          ],
          "name": "stderr"
        },
        {
          "output_type": "stream",
          "text": [
            "CPU times: user 34.8 s, sys: 30.1 s, total: 1min 4s\n",
            "Wall time: 2min 14s\n"
          ],
          "name": "stdout"
        }
      ]
    },
    {
      "cell_type": "code",
      "metadata": {
        "id": "hOFfCirm5Bka"
      },
      "source": [
        " X = np.asarray(X_list)\n",
        " y = np.asarray(y_list)"
      ],
      "execution_count": 111,
      "outputs": []
    },
    {
      "cell_type": "code",
      "metadata": {
        "colab": {
          "base_uri": "https://localhost:8080/"
        },
        "id": "VD7u00mL7ajg",
        "outputId": "6aef2922-7cc9-4fc5-bdef-0fd91de1945e"
      },
      "source": [
        "X.shape"
      ],
      "execution_count": 112,
      "outputs": [
        {
          "output_type": "execute_result",
          "data": {
            "text/plain": [
              "(7634, 20)"
            ]
          },
          "metadata": {
            "tags": []
          },
          "execution_count": 112
        }
      ]
    },
    {
      "cell_type": "code",
      "metadata": {
        "colab": {
          "base_uri": "https://localhost:8080/"
        },
        "id": "uGce1bjh-f1l",
        "outputId": "2878eec1-bd3e-4944-cfa9-b1c5625e08c3"
      },
      "source": [
        "y.shape"
      ],
      "execution_count": 113,
      "outputs": [
        {
          "output_type": "execute_result",
          "data": {
            "text/plain": [
              "(7634,)"
            ]
          },
          "metadata": {
            "tags": []
          },
          "execution_count": 113
        }
      ]
    },
    {
      "cell_type": "code",
      "metadata": {
        "id": "pM7DK2JWCE2S"
      },
      "source": [
        "np.bincount(y)[1]"
      ],
      "execution_count": null,
      "outputs": []
    },
    {
      "cell_type": "code",
      "metadata": {
        "colab": {
          "base_uri": "https://localhost:8080/"
        },
        "id": "4P-MsrLhCch1",
        "outputId": "96e096f5-5acf-44e1-a4a5-e407a4ab3818"
      },
      "source": [
        "np.bincount(y)[0]"
      ],
      "execution_count": 115,
      "outputs": [
        {
          "output_type": "execute_result",
          "data": {
            "text/plain": [
              "5238"
            ]
          },
          "metadata": {
            "tags": []
          },
          "execution_count": 115
        }
      ]
    },
    {
      "cell_type": "code",
      "metadata": {
        "id": "_ImrJ8__AdOR"
      },
      "source": [
        "# from sklearn.preprocessing import StandardScaler\n",
        "# scaler = StandardScaler()\n",
        "# X = scaler.fit_transform(X)"
      ],
      "execution_count": 116,
      "outputs": []
    },
    {
      "cell_type": "code",
      "metadata": {
        "id": "vBMKEfH_ARtH"
      },
      "source": [
        "from sklearn.linear_model import LogisticRegression\n",
        "pipe_lr = LogisticRegression(random_state=14,\n",
        "               penalty='l1',\n",
        "               solver='liblinear',\n",
        "               max_iter=10000)"
      ],
      "execution_count": 119,
      "outputs": []
    },
    {
      "cell_type": "code",
      "metadata": {
        "colab": {
          "base_uri": "https://localhost:8080/"
        },
        "id": "cGWFad41_3Gn",
        "outputId": "aa92dda1-f170-4860-eb5f-f1e8563adde5"
      },
      "source": [
        "from sklearn.model_selection import StratifiedKFold\n",
        "kfold = StratifiedKFold(n_splits=10).split(X, y)\n",
        "scores = []\n",
        "for k, (train, test) in enumerate(kfold):\n",
        "     pipe_lr.fit(X[train], y[train])\n",
        "     score = pipe_lr.score(X[test], y[test])\n",
        "     scores.append(score)\n",
        "     print('Fold: %2d, Acc: %.3f' % (k+1, score))\n",
        "np.mean(scores)"
      ],
      "execution_count": 120,
      "outputs": [
        {
          "output_type": "stream",
          "text": [
            "Fold:  1, Acc: 0.789\n",
            "Fold:  2, Acc: 0.728\n",
            "Fold:  3, Acc: 0.753\n",
            "Fold:  4, Acc: 0.829\n",
            "Fold:  5, Acc: 0.889\n",
            "Fold:  6, Acc: 0.906\n",
            "Fold:  7, Acc: 0.934\n",
            "Fold:  8, Acc: 0.900\n",
            "Fold:  9, Acc: 0.712\n",
            "Fold: 10, Acc: 0.712\n"
          ],
          "name": "stdout"
        },
        {
          "output_type": "execute_result",
          "data": {
            "text/plain": [
              "0.8150592178847619"
            ]
          },
          "metadata": {
            "tags": []
          },
          "execution_count": 120
        }
      ]
    },
    {
      "cell_type": "code",
      "metadata": {
        "id": "Gq9NDjm9AzP-"
      },
      "source": [
        ""
      ],
      "execution_count": 118,
      "outputs": []
    }
  ]
}