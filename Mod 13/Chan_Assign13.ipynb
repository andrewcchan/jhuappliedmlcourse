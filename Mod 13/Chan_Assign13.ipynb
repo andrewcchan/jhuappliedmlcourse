{
  "nbformat": 4,
  "nbformat_minor": 0,
  "metadata": {
    "colab": {
      "name": "Chan-Assign13.ipynb",
      "provenance": [],
      "collapsed_sections": []
    },
    "kernelspec": {
      "name": "python3",
      "display_name": "Python 3"
    },
    "language_info": {
      "name": "python"
    }
  },
  "cells": [
    {
      "cell_type": "code",
      "metadata": {
        "colab": {
          "base_uri": "https://localhost:8080/"
        },
        "id": "iJg5agtD4NTU",
        "outputId": "f7b2daf2-fda1-4baa-e442-9f6c3fcba046"
      },
      "source": [
        "%matplotlib inline\n",
        "import matplotlib.pyplot as plt\n",
        "import numpy as np\n",
        "\n",
        "import torch\n",
        "\n",
        "print(f'PyTorch version= {torch.__version__}')\n",
        "print(f'CUDA available= {torch.cuda.is_available()}')"
      ],
      "execution_count": 2,
      "outputs": [
        {
          "output_type": "stream",
          "text": [
            "PyTorch version= 1.8.1+cu101\n",
            "CUDA available= False\n"
          ],
          "name": "stdout"
        }
      ]
    },
    {
      "cell_type": "code",
      "metadata": {
        "colab": {
          "base_uri": "https://localhost:8080/"
        },
        "id": "bux0od6D4PG4",
        "outputId": "97c014a8-46e9-41f0-b841-bb361ea96978"
      },
      "source": [
        "# A helper function to display properties of the Python objects\n",
        "def describe(x):\n",
        "    print(f\"Type= {x.type()}\")\n",
        "    print(f\"Shape/size= {x.shape}\")\n",
        "    print(f\"Values= {x}\")\n",
        "\n",
        "# Random tensor, has dummy values from the computer memory - not initialized\n",
        "describe(torch.Tensor(2, 3))"
      ],
      "execution_count": 3,
      "outputs": [
        {
          "output_type": "stream",
          "text": [
            "Type= torch.FloatTensor\n",
            "Shape/size= torch.Size([2, 3])\n",
            "Values= tensor([[3.4478e+33, 3.0815e-41, 3.7835e-44],\n",
            "        [0.0000e+00,        nan, 2.6908e+20]])\n"
          ],
          "name": "stdout"
        }
      ]
    },
    {
      "cell_type": "code",
      "metadata": {
        "id": "ffF8kylWsPWr"
      },
      "source": [
        "import librosa\n",
        "import librosa.display"
      ],
      "execution_count": 4,
      "outputs": []
    },
    {
      "cell_type": "code",
      "metadata": {
        "colab": {
          "base_uri": "https://localhost:8080/"
        },
        "id": "ajxDYwvDxjfo",
        "outputId": "42353e87-71b6-4b76-e885-af917eb376c4"
      },
      "source": [
        "from google.colab import drive\n",
        "drive.mount(\"/content/drive\")\n"
      ],
      "execution_count": 5,
      "outputs": [
        {
          "output_type": "stream",
          "text": [
            "Mounted at /content/drive\n"
          ],
          "name": "stdout"
        }
      ]
    },
    {
      "cell_type": "markdown",
      "metadata": {
        "id": "deDoK9Yiup4Q"
      },
      "source": [
        "# 1. [20 pts] Pre-process a single file using 20 frequency bins (i.e. M), and 2000 sampling frequency (controls the number of data points)\n",
        "\n",
        "cat_1.wav file (signal) will generate 20 features, and 44 data points. Note that 2000Hz\n",
        "sampling frequency in fact would ignore frequencies higher than 1000Hz and we assume\n",
        "cats and dogs sounds are less than that range. Changing that limit to 3k, and 4k are\n",
        "suggested, but then this will increase the number of data points to be processed.\n",
        "Display the spectrogram in your notebook"
      ]
    },
    {
      "cell_type": "code",
      "metadata": {
        "id": "7qCfIJu7xED6"
      },
      "source": [
        "Path_dataset = '/content/drive/MyDrive/JHU/AppliedMachineLearning/audioCatsDog/cats_dogs/'\n",
        "SAMPLING_FRQ = 2000\n",
        "M = 20\n",
        "\n"
      ],
      "execution_count": 6,
      "outputs": []
    },
    {
      "cell_type": "code",
      "metadata": {
        "colab": {
          "base_uri": "https://localhost:8080/",
          "height": 296
        },
        "id": "6DZyej_k42r1",
        "outputId": "d2be1500-dbf8-4afb-afe6-6173ab20577b"
      },
      "source": [
        "x, fs = librosa.load(Path_dataset+'cat_1.wav', sr=SAMPLING_FRQ)\n",
        "mfccs = librosa.feature.mfcc(x, sr=fs, n_mfcc=M)\n",
        "librosa.display.specshow(mfccs, sr=fs, x_axis='time')"
      ],
      "execution_count": 7,
      "outputs": [
        {
          "output_type": "execute_result",
          "data": {
            "text/plain": [
              "<matplotlib.collections.QuadMesh at 0x7fe8742d2ed0>"
            ]
          },
          "metadata": {
            "tags": []
          },
          "execution_count": 7
        },
        {
          "output_type": "display_data",
          "data": {
            "image/png": "[encoded data removed]",
            "text/plain": [
              "<Figure size 432x288 with 1 Axes>"
            ]
          },
          "metadata": {
            "tags": [],
            "needs_background": "light"
          }
        }
      ]
    },
    {
      "cell_type": "markdown",
      "metadata": {
        "id": "fc4CDRV2z1nj"
      },
      "source": [
        "# 2. [20 pts] For each wav file, you will have multiple data points, as generated by the librosa.feature.mfcc. \n",
        "\n",
        "Generate the X and y matrices for supervised learning. Apply your\n",
        "favorite classifier and comment about your results. (Hint: Expect 80-90% 10-fold CV\n",
        "accuracy, and N, M = 7634, 20)"
      ]
    },
    {
      "cell_type": "code",
      "metadata": {
        "colab": {
          "base_uri": "https://localhost:8080/"
        },
        "id": "v_2ldRzJz5lB",
        "outputId": "a002e0de-ecae-48da-ee22-28694271e4fe"
      },
      "source": [
        "mfccs.shape"
      ],
      "execution_count": 23,
      "outputs": [
        {
          "output_type": "execute_result",
          "data": {
            "text/plain": [
              "(20, 37)"
            ]
          },
          "metadata": {
            "tags": []
          },
          "execution_count": 23
        }
      ]
    },
    {
      "cell_type": "code",
      "metadata": {
        "colab": {
          "base_uri": "https://localhost:8080/"
        },
        "id": "roNGT38K_T55",
        "outputId": "21a05f36-1a4f-4339-9460-e8aca1108552"
      },
      "source": [
        "mfccs[:,0].shape"
      ],
      "execution_count": 24,
      "outputs": [
        {
          "output_type": "execute_result",
          "data": {
            "text/plain": [
              "(20,)"
            ]
          },
          "metadata": {
            "tags": []
          },
          "execution_count": 24
        }
      ]
    },
    {
      "cell_type": "code",
      "metadata": {
        "colab": {
          "base_uri": "https://localhost:8080/"
        },
        "id": "-K4kLWKepTc4",
        "outputId": "feb9e981-f773-4d0f-c493-ccc36c112a87"
      },
      "source": [
        "mfccs[0].shape"
      ],
      "execution_count": 22,
      "outputs": [
        {
          "output_type": "execute_result",
          "data": {
            "text/plain": [
              "(37,)"
            ]
          },
          "metadata": {
            "tags": []
          },
          "execution_count": 22
        }
      ]
    },
    {
      "cell_type": "code",
      "metadata": {
        "id": "s7l3ktx80InL"
      },
      "source": [
        "import os\n",
        "\n",
        "directory = os.path.join(Path_dataset)"
      ],
      "execution_count": 10,
      "outputs": []
    },
    {
      "cell_type": "markdown",
      "metadata": {
        "id": "P8oTbwZS7NPF"
      },
      "source": [
        "Create X,y"
      ]
    },
    {
      "cell_type": "code",
      "metadata": {
        "colab": {
          "base_uri": "https://localhost:8080/"
        },
        "id": "P3Mzr9sf47YS",
        "outputId": "54489753-b522-4d28-ed05-ad89a3d9ba1f"
      },
      "source": [
        "%%time\n",
        "X_list = []\n",
        "y_list = []\n",
        "for root,dirs,files in os.walk(directory):\n",
        "    for file in files:\n",
        "       if file.endswith(\".wav\"):\n",
        "         x, fs = librosa.load(Path_dataset+file, sr=SAMPLING_FRQ)\n",
        "         mfccs = librosa.feature.mfcc(x, sr=fs, n_mfcc=M)\n",
        "         for i in range(mfccs.shape[1]):\n",
        "           X_list.append(mfccs[:,i])\n",
        "           if file.startswith(\"cat\"):\n",
        "             y_list.append(0)\n",
        "           elif file.startswith(\"dog\"):\n",
        "             y_list.append(1)\n",
        "    break # avoid recursion"
      ],
      "execution_count": 11,
      "outputs": [
        {
          "output_type": "stream",
          "text": [
            "/usr/local/lib/python3.7/dist-packages/librosa/core/spectrum.py:224: UserWarning: n_fft=2048 is too small for input signal of length=1884\n",
            "  n_fft, y.shape[-1]\n",
            "/usr/local/lib/python3.7/dist-packages/librosa/core/spectrum.py:224: UserWarning: n_fft=2048 is too small for input signal of length=1847\n",
            "  n_fft, y.shape[-1]\n",
            "/usr/local/lib/python3.7/dist-packages/librosa/core/spectrum.py:224: UserWarning: n_fft=2048 is too small for input signal of length=1969\n",
            "  n_fft, y.shape[-1]\n",
            "/usr/local/lib/python3.7/dist-packages/librosa/core/spectrum.py:224: UserWarning: n_fft=2048 is too small for input signal of length=1960\n",
            "  n_fft, y.shape[-1]\n",
            "/usr/local/lib/python3.7/dist-packages/librosa/core/spectrum.py:224: UserWarning: n_fft=2048 is too small for input signal of length=2032\n",
            "  n_fft, y.shape[-1]\n"
          ],
          "name": "stderr"
        },
        {
          "output_type": "stream",
          "text": [
            "CPU times: user 32.5 s, sys: 27.6 s, total: 1min\n",
            "Wall time: 2min 21s\n"
          ],
          "name": "stdout"
        }
      ]
    },
    {
      "cell_type": "code",
      "metadata": {
        "id": "hOFfCirm5Bka"
      },
      "source": [
        " X = np.asarray(X_list)\n",
        " y = np.asarray(y_list)"
      ],
      "execution_count": 12,
      "outputs": []
    },
    {
      "cell_type": "code",
      "metadata": {
        "colab": {
          "base_uri": "https://localhost:8080/"
        },
        "id": "VD7u00mL7ajg",
        "outputId": "0792cb45-181a-4012-cee6-bac44439ddc0"
      },
      "source": [
        "X.shape"
      ],
      "execution_count": 13,
      "outputs": [
        {
          "output_type": "execute_result",
          "data": {
            "text/plain": [
              "(7634, 20)"
            ]
          },
          "metadata": {
            "tags": []
          },
          "execution_count": 13
        }
      ]
    },
    {
      "cell_type": "code",
      "metadata": {
        "colab": {
          "base_uri": "https://localhost:8080/"
        },
        "id": "uGce1bjh-f1l",
        "outputId": "ea341992-ab72-4a94-9e2c-f41408aaa8ea"
      },
      "source": [
        "y.shape"
      ],
      "execution_count": 14,
      "outputs": [
        {
          "output_type": "execute_result",
          "data": {
            "text/plain": [
              "(7634,)"
            ]
          },
          "metadata": {
            "tags": []
          },
          "execution_count": 14
        }
      ]
    },
    {
      "cell_type": "code",
      "metadata": {
        "colab": {
          "base_uri": "https://localhost:8080/"
        },
        "id": "pM7DK2JWCE2S",
        "outputId": "d88820be-1a32-4e11-d5d2-aceb5cd44453"
      },
      "source": [
        "np.bincount(y)[1]"
      ],
      "execution_count": 15,
      "outputs": [
        {
          "output_type": "execute_result",
          "data": {
            "text/plain": [
              "2396"
            ]
          },
          "metadata": {
            "tags": []
          },
          "execution_count": 15
        }
      ]
    },
    {
      "cell_type": "code",
      "metadata": {
        "colab": {
          "base_uri": "https://localhost:8080/"
        },
        "id": "4P-MsrLhCch1",
        "outputId": "e200e066-7f99-4a0a-c251-bcd37834292a"
      },
      "source": [
        "np.bincount(y)[0]"
      ],
      "execution_count": 16,
      "outputs": [
        {
          "output_type": "execute_result",
          "data": {
            "text/plain": [
              "5238"
            ]
          },
          "metadata": {
            "tags": []
          },
          "execution_count": 16
        }
      ]
    },
    {
      "cell_type": "code",
      "metadata": {
        "id": "_ImrJ8__AdOR"
      },
      "source": [
        "from sklearn.preprocessing import StandardScaler\n",
        "scaler = StandardScaler()\n",
        "X = scaler.fit_transform(X)"
      ],
      "execution_count": 17,
      "outputs": []
    },
    {
      "cell_type": "code",
      "metadata": {
        "id": "vBMKEfH_ARtH"
      },
      "source": [
        "from sklearn.linear_model import LogisticRegression\n",
        "pipe_lr = LogisticRegression(random_state=14,\n",
        "               penalty='l1',\n",
        "               solver='liblinear',\n",
        "               max_iter=10000)"
      ],
      "execution_count": 18,
      "outputs": []
    },
    {
      "cell_type": "code",
      "metadata": {
        "colab": {
          "base_uri": "https://localhost:8080/"
        },
        "id": "cGWFad41_3Gn",
        "outputId": "bf7806b9-b3e2-4350-ab18-74963abe8a97"
      },
      "source": [
        "from sklearn.model_selection import StratifiedKFold\n",
        "kfold = StratifiedKFold(n_splits=10).split(X, y)\n",
        "scores = []\n",
        "for k, (train, test) in enumerate(kfold):\n",
        "     pipe_lr.fit(X[train], y[train])\n",
        "     score = pipe_lr.score(X[test], y[test])\n",
        "     scores.append(score)\n",
        "     print('Fold: %2d, Acc: %.3f' % (k+1, score))\n",
        "np.mean(scores)"
      ],
      "execution_count": 19,
      "outputs": [
        {
          "output_type": "stream",
          "text": [
            "Fold:  1, Acc: 0.792\n",
            "Fold:  2, Acc: 0.728\n",
            "Fold:  3, Acc: 0.753\n",
            "Fold:  4, Acc: 0.826\n",
            "Fold:  5, Acc: 0.890\n",
            "Fold:  6, Acc: 0.906\n",
            "Fold:  7, Acc: 0.934\n",
            "Fold:  8, Acc: 0.900\n",
            "Fold:  9, Acc: 0.712\n",
            "Fold: 10, Acc: 0.710\n"
          ],
          "name": "stdout"
        },
        {
          "output_type": "execute_result",
          "data": {
            "text/plain": [
              "0.8150592178847619"
            ]
          },
          "metadata": {
            "tags": []
          },
          "execution_count": 19
        }
      ]
    },
    {
      "cell_type": "markdown",
      "metadata": {
        "id": "SZSMfsa5BQPs"
      },
      "source": [
        "Comments:\n",
        "\n",
        "* 10 fold accuracy is about 81.50%\n",
        "* This is good as there are only 2 labels and random chance would be 50% accuracy\n"
      ]
    },
    {
      "cell_type": "markdown",
      "metadata": {
        "id": "RxbtEq9_D6Ii"
      },
      "source": [
        "# 3. [50 pts] Train a simple RNN, as given in the module Jupyter notebook, by shuffling the list of the signals (the dataset has 277) and training the network sufficiently (suggested 50 times) and compare its performance to your previous evaluation in step (2.). \n",
        "\n",
        "Note that the train method in the module RNN can train a single signal. An epoch can be\n",
        "the training of all the signals where every signal entails the hidden layer to be initialized and\n",
        "gradients being reset at the training start"
      ]
    },
    {
      "cell_type": "markdown",
      "metadata": {
        "id": "evwwhWpA92wL"
      },
      "source": [
        "Preprocessing"
      ]
    },
    {
      "cell_type": "code",
      "metadata": {
        "colab": {
          "base_uri": "https://localhost:8080/"
        },
        "id": "FnlItEqb95Je",
        "outputId": "e1948a6a-1575-45ae-e2b3-b8641083eef5"
      },
      "source": [
        "# %%time\n",
        "X_list = []\n",
        "y_list = []\n",
        "for root,dirs,files in os.walk(directory):\n",
        "  for file in files:\n",
        "    if file.endswith(\".wav\"):\n",
        "      x, fs = librosa.load(Path_dataset+file, sr=SAMPLING_FRQ)\n",
        "      mfccs = librosa.feature.mfcc(x, sr=fs, n_mfcc=M)\n",
        "      tensor = torch.zeros(mfccs.shape[1], 1, M)\n",
        "      for i in range(mfccs.shape[1]):\n",
        "        tensor[i][0] = torch.from_numpy(mfccs[:,i]) # should be of length M\n",
        "      X_list.append(tensor)\n",
        "      if file.startswith(\"cat\"):\n",
        "        y_list.append(torch.tensor([0]))\n",
        "      elif file.startswith(\"dog\"):\n",
        "        y_list.append(torch.tensor([1]))\n",
        "  break # avoid recursion"
      ],
      "execution_count": 33,
      "outputs": [
        {
          "output_type": "stream",
          "text": [
            "/usr/local/lib/python3.7/dist-packages/librosa/core/spectrum.py:224: UserWarning: n_fft=2048 is too small for input signal of length=1884\n",
            "  n_fft, y.shape[-1]\n",
            "/usr/local/lib/python3.7/dist-packages/librosa/core/spectrum.py:224: UserWarning: n_fft=2048 is too small for input signal of length=1847\n",
            "  n_fft, y.shape[-1]\n",
            "/usr/local/lib/python3.7/dist-packages/librosa/core/spectrum.py:224: UserWarning: n_fft=2048 is too small for input signal of length=1969\n",
            "  n_fft, y.shape[-1]\n",
            "/usr/local/lib/python3.7/dist-packages/librosa/core/spectrum.py:224: UserWarning: n_fft=2048 is too small for input signal of length=1960\n",
            "  n_fft, y.shape[-1]\n",
            "/usr/local/lib/python3.7/dist-packages/librosa/core/spectrum.py:224: UserWarning: n_fft=2048 is too small for input signal of length=2032\n",
            "  n_fft, y.shape[-1]\n"
          ],
          "name": "stderr"
        }
      ]
    },
    {
      "cell_type": "markdown",
      "metadata": {
        "id": "BhtXg_vRqi3U"
      },
      "source": [
        "Sanity Check"
      ]
    },
    {
      "cell_type": "code",
      "metadata": {
        "colab": {
          "base_uri": "https://localhost:8080/"
        },
        "id": "-5Osb2bzqAGA",
        "outputId": "0e91d2c4-2dd1-4c44-98c0-189ab1f5d8b9"
      },
      "source": [
        "len(X_list)"
      ],
      "execution_count": 34,
      "outputs": [
        {
          "output_type": "execute_result",
          "data": {
            "text/plain": [
              "277"
            ]
          },
          "metadata": {
            "tags": []
          },
          "execution_count": 34
        }
      ]
    },
    {
      "cell_type": "code",
      "metadata": {
        "colab": {
          "base_uri": "https://localhost:8080/"
        },
        "id": "vsgwNIE0qTkw",
        "outputId": "4a915faf-dd72-428a-9c45-7d748cbee36e"
      },
      "source": [
        "len(y_list)"
      ],
      "execution_count": 35,
      "outputs": [
        {
          "output_type": "execute_result",
          "data": {
            "text/plain": [
              "277"
            ]
          },
          "metadata": {
            "tags": []
          },
          "execution_count": 35
        }
      ]
    },
    {
      "cell_type": "code",
      "metadata": {
        "colab": {
          "base_uri": "https://localhost:8080/"
        },
        "id": "t-LCX4ovqXWn",
        "outputId": "81f5b8a9-f4f8-4502-9039-4d0e30e3cf88"
      },
      "source": [
        "X_list[0].shape"
      ],
      "execution_count": 36,
      "outputs": [
        {
          "output_type": "execute_result",
          "data": {
            "text/plain": [
              "torch.Size([37, 1, 20])"
            ]
          },
          "metadata": {
            "tags": []
          },
          "execution_count": 36
        }
      ]
    },
    {
      "cell_type": "code",
      "metadata": {
        "id": "yosCciExD488"
      },
      "source": [
        "from sklearn.utils import shuffle\n",
        "X, y = shuffle(X, y, random_state=42)"
      ],
      "execution_count": null,
      "outputs": []
    },
    {
      "cell_type": "code",
      "metadata": {
        "id": "xCBJmmgOGXAF"
      },
      "source": [
        "import torch.nn as nn\n",
        "import torch.optim as optim\n",
        "\n",
        "\n",
        "class RNN(nn.Module):\n",
        "    def __init__(self, n_features, n_hidden, n_output, eta=0.0005,epochs=50,minibatch_size=50 ):\n",
        "        super(RNN, self).__init__()\n",
        "\n",
        "        self.n_features = n_features\n",
        "        self.n_hidden = n_hidden\n",
        "\n",
        "        self.i2h = nn.Linear(n_features + n_hidden, n_hidden)\n",
        "        self.i2o = nn.Linear(n_features + n_hidden, n_output)\n",
        "        self.softmax = nn.LogSoftmax(dim=1)\n",
        "\n",
        "        self.eta = eta  # learning rate\n",
        "        \n",
        "        # loss , since the last layer is nn.LogSoftmax\n",
        "        self.criterion = nn.NLLLoss()\n",
        "\n",
        "        self.epochs = epochs  # number of iterations\n",
        "        self.minibatch_size = minibatch_size  # size of training batch - 1 would not work\n",
        "\n",
        "\n",
        "\n",
        "    def forward(self, x, hidden):\n",
        "        combined = torch.cat((x, hidden), dim=1)\n",
        "        hidden = self.i2h(combined)\n",
        "        output = self.i2o(combined)\n",
        "        output = self.softmax(output)\n",
        "        return output, hidden\n",
        "\n",
        "    def init_hidden(self):\n",
        "        return torch.zeros(1, self.n_hidden)\n",
        "\n",
        "    def train_signal(self, sxx, y):\n",
        "        hidden = self.init_hidden()\n",
        "        self.zero_grad()\n",
        "\n",
        "        T = sxx.shape[0]\n",
        "        for i in range(T):\n",
        "            output, hidden = self.forward(sxx[i].reshape(1,self.n_features), hidden)\n",
        "        print('output', output, 'y',y)\n",
        "        loss = self.criterion(output, y)\n",
        "        loss.backward()\n",
        "        \n",
        "        for p in self.parameters():\n",
        "            p.data.add_(-self.eta, p.grad.data)\n",
        "\n",
        "        return output, loss.item()\n",
        "    \n",
        "    def fit(self, X_train, y_train):\n",
        "      self._reset()  # Reset the neural network weights\n",
        "      n_output= np.unique(y_train).shape[0]  # number of class labels\n",
        "      n_features= X_train.shape[1]\n",
        "\n",
        "      optimizer = optim.SGD(self.parameters(), lr=self.eta, momentum=0.9)\n",
        "\n",
        "      for i in range(self.epochs):\n",
        "        for indices in range(X_train.shape[0]):\n",
        "          optimizer.zero_grad()\n",
        "          self.train_signal(X_train[indices], y_train[indices])\n",
        "          optimizer.step()       \n",
        "\n",
        "    def predict(self, sxx):\n",
        "      with torch.no_grad():\n",
        "        hidden = rnn.init_hidden()\n",
        "        sxx = torch.tensor(sxx, dtype=torch.float)\n",
        "        for i in range(sxx.shape[0]):\n",
        "          output, hidden = rnn.forward(sxx[i].reshape(1,rnn.n_features), hidden)\n",
        "        y = 0 if ct=='cat' else 1\n",
        "        y_pred = 0 if output[0][0]>output[0][1] else 1\n",
        "        return y_pred\n",
        "\n",
        "    def _reset(self):\n",
        "        for m in self.modules():\n",
        "            if isinstance(m, nn.Linear):\n",
        "                 m.reset_parameters()"
      ],
      "execution_count": null,
      "outputs": []
    },
    {
      "cell_type": "code",
      "metadata": {
        "id": "p-PJxBexVFPi"
      },
      "source": [
        "def kfold_eval_docs(_clf, _Xdocs, _ydocs):\n",
        "    from sklearn.model_selection import StratifiedKFold\n",
        "    from sklearn.metrics import accuracy_score\n",
        "\n",
        "    # Need indexable data structure\n",
        "    acc = []\n",
        "    kf = StratifiedKFold(n_splits=10, shuffle=False, random_state=None)\n",
        "    for train_index, test_index in kf.split(_Xdocs, _ydocs):\n",
        "        _clf.fit(_Xdocs[train_index], _ydocs[train_index])\n",
        "        y_pred = _clf.predict(_Xdocs[test_index])\n",
        "        acc += [accuracy_score(_ydocs[test_index], y_pred)]\n",
        "    return np.array(acc)"
      ],
      "execution_count": null,
      "outputs": []
    },
    {
      "cell_type": "code",
      "metadata": {
        "id": "tqqdaWmyGXd_"
      },
      "source": [
        "%%time\n",
        "clf = RNN(20, 1, 2)\n",
        "\n",
        "acc = kfold_eval_docs(clf, torch.tensor(X), torch.tensor(y))\n",
        "\n",
        "print(f\"PyTorch Feedforward NN 10-fold CV accuracy= {np.mean(acc):.2f} {chr(177)}{np.std(acc):.3f}\")"
      ],
      "execution_count": null,
      "outputs": []
    },
    {
      "cell_type": "code",
      "metadata": {
        "id": "PiRaRNglH2kE"
      },
      "source": [
        ""
      ],
      "execution_count": null,
      "outputs": []
    }
  ]
}