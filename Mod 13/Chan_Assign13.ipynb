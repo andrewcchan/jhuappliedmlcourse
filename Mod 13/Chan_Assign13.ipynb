{
 "cells": [
  {
   "cell_type": "markdown",
   "metadata": {},
   "source": [
    "# Assignment 13\n",
    "## Applied Machine Learning\n",
    "\n",
    "Andrew Chan \n",
    "EBE869"
   ]
  },
  {
   "cell_type": "code",
   "execution_count": 1,
   "metadata": {
    "colab": {
     "base_uri": "https://localhost:8080/"
    },
    "id": "iJg5agtD4NTU",
    "outputId": "4de5abf0-8cdc-445f-a2a7-4007ad36a9c5"
   },
   "outputs": [
    {
     "name": "stdout",
     "output_type": "stream",
     "text": [
      "PyTorch version= 1.6.0\n",
      "CUDA available= False\n"
     ]
    }
   ],
   "source": [
    "%matplotlib inline\n",
    "import matplotlib.pyplot as plt\n",
    "import numpy as np\n",
    "\n",
    "import torch\n",
    "\n",
    "print(f'PyTorch version= {torch.__version__}')\n",
    "print(f'CUDA available= {torch.cuda.is_available()}')"
   ]
  },
  {
   "cell_type": "code",
   "execution_count": 2,
   "metadata": {
    "colab": {
     "base_uri": "https://localhost:8080/"
    },
    "id": "bux0od6D4PG4",
    "outputId": "fea7deb1-8522-402b-937b-1d5fa9f87fc1"
   },
   "outputs": [
    {
     "name": "stdout",
     "output_type": "stream",
     "text": [
      "Type= torch.FloatTensor\n",
      "Shape/size= torch.Size([2, 3])\n",
      "Values= tensor([[0.0000e+00, 0.0000e+00, 0.0000e+00],\n",
      "        [0.0000e+00, 0.0000e+00, 5.9694e-39]])\n"
     ]
    }
   ],
   "source": [
    "# A helper function to display properties of the Python objects\n",
    "def describe(x):\n",
    "    print(f\"Type= {x.type()}\")\n",
    "    print(f\"Shape/size= {x.shape}\")\n",
    "    print(f\"Values= {x}\")\n",
    "\n",
    "# Random tensor, has dummy values from the computer memory - not initialized\n",
    "describe(torch.Tensor(2, 3))"
   ]
  },
  {
   "cell_type": "code",
   "execution_count": 3,
   "metadata": {
    "id": "ffF8kylWsPWr"
   },
   "outputs": [],
   "source": [
    "import librosa\n",
    "import librosa.display"
   ]
  },
  {
   "cell_type": "markdown",
   "metadata": {
    "id": "deDoK9Yiup4Q"
   },
   "source": [
    "# 1. [20 pts] Pre-process a single file using 20 frequency bins (i.e. M), and 2000 sampling frequency (controls the number of data points)\n",
    "\n",
    "cat_1.wav file (signal) will generate 20 features, and 44 data points. Note that 2000Hz\n",
    "sampling frequency in fact would ignore frequencies higher than 1000Hz and we assume\n",
    "cats and dogs sounds are less than that range. Changing that limit to 3k, and 4k are\n",
    "suggested, but then this will increase the number of data points to be processed.\n",
    "Display the spectrogram in your notebook"
   ]
  },
  {
   "cell_type": "code",
   "execution_count": 4,
   "metadata": {
    "id": "7qCfIJu7xED6"
   },
   "outputs": [],
   "source": [
    "Path_dataset = './audioCatsDog/cats_dogs/'\n",
    "SAMPLING_FRQ = 2000\n",
    "M = 20\n",
    "\n"
   ]
  },
  {
   "cell_type": "code",
   "execution_count": 5,
   "metadata": {
    "colab": {
     "base_uri": "https://localhost:8080/",
     "height": 296
    },
    "id": "6DZyej_k42r1",
    "outputId": "2cb55373-fae2-4050-acde-fd3a8bef3723"
   },
   "outputs": [
    {
     "data": {
      "text/plain": [
       "<matplotlib.collections.QuadMesh at 0x29e5c5cb820>"
      ]
     },
     "execution_count": 5,
     "metadata": {},
     "output_type": "execute_result"
    },
    {
     "data": {
      "image/png": "[encoded data removed]",
      "text/plain": [
       "<Figure size 432x288 with 1 Axes>"
      ]
     },
     "metadata": {
      "needs_background": "light"
     },
     "output_type": "display_data"
    }
   ],
   "source": [
    "x, fs = librosa.load(Path_dataset+'cat_1.wav', sr=SAMPLING_FRQ)\n",
    "mfccs = librosa.feature.mfcc(x, sr=fs, n_mfcc=M)\n",
    "librosa.display.specshow(mfccs, sr=fs, x_axis='time')"
   ]
  },
  {
   "cell_type": "markdown",
   "metadata": {
    "id": "fc4CDRV2z1nj"
   },
   "source": [
    "# 2. [20 pts] For each wav file, you will have multiple data points, as generated by the librosa.feature.mfcc. \n",
    "\n",
    "Generate the X and y matrices for supervised learning. Apply your\n",
    "favorite classifier and comment about your results. (Hint: Expect 80-90% 10-fold CV\n",
    "accuracy, and N, M = 7634, 20)"
   ]
  },
  {
   "cell_type": "code",
   "execution_count": 6,
   "metadata": {
    "colab": {
     "base_uri": "https://localhost:8080/"
    },
    "id": "v_2ldRzJz5lB",
    "outputId": "898c2207-c3b1-48c6-cc20-edfdb581afea"
   },
   "outputs": [
    {
     "data": {
      "text/plain": [
       "(20, 44)"
      ]
     },
     "execution_count": 6,
     "metadata": {},
     "output_type": "execute_result"
    }
   ],
   "source": [
    "mfccs.shape"
   ]
  },
  {
   "cell_type": "code",
   "execution_count": 7,
   "metadata": {
    "colab": {
     "base_uri": "https://localhost:8080/"
    },
    "id": "roNGT38K_T55",
    "outputId": "7db315de-f683-4517-d269-0254fc119bcc"
   },
   "outputs": [
    {
     "data": {
      "text/plain": [
       "(20,)"
      ]
     },
     "execution_count": 7,
     "metadata": {},
     "output_type": "execute_result"
    }
   ],
   "source": [
    "mfccs[:,0].shape"
   ]
  },
  {
   "cell_type": "code",
   "execution_count": 8,
   "metadata": {
    "colab": {
     "base_uri": "https://localhost:8080/"
    },
    "id": "-K4kLWKepTc4",
    "outputId": "c294cf1b-e202-4a2c-e934-f96d9eef6743"
   },
   "outputs": [
    {
     "data": {
      "text/plain": [
       "(44,)"
      ]
     },
     "execution_count": 8,
     "metadata": {},
     "output_type": "execute_result"
    }
   ],
   "source": [
    "mfccs[0].shape"
   ]
  },
  {
   "cell_type": "code",
   "execution_count": 9,
   "metadata": {
    "id": "s7l3ktx80InL"
   },
   "outputs": [],
   "source": [
    "import os\n",
    "\n",
    "directory = os.path.join(Path_dataset)"
   ]
  },
  {
   "cell_type": "markdown",
   "metadata": {
    "id": "P8oTbwZS7NPF"
   },
   "source": [
    "Create X,y"
   ]
  },
  {
   "cell_type": "code",
   "execution_count": 10,
   "metadata": {
    "colab": {
     "base_uri": "https://localhost:8080/"
    },
    "id": "P3Mzr9sf47YS",
    "outputId": "b696206a-c22f-4096-f648-5b81ff249011"
   },
   "outputs": [
    {
     "name": "stderr",
     "output_type": "stream",
     "text": [
      "C:\\Users\\ackch\\anaconda3\\envs\\torch\\lib\\site-packages\\librosa\\core\\spectrum.py:222: UserWarning: n_fft=2048 is too small for input signal of length=1884\n",
      "  warnings.warn(\n",
      "C:\\Users\\ackch\\anaconda3\\envs\\torch\\lib\\site-packages\\librosa\\core\\spectrum.py:222: UserWarning: n_fft=2048 is too small for input signal of length=1847\n",
      "  warnings.warn(\n",
      "C:\\Users\\ackch\\anaconda3\\envs\\torch\\lib\\site-packages\\librosa\\core\\spectrum.py:222: UserWarning: n_fft=2048 is too small for input signal of length=1969\n",
      "  warnings.warn(\n",
      "C:\\Users\\ackch\\anaconda3\\envs\\torch\\lib\\site-packages\\librosa\\core\\spectrum.py:222: UserWarning: n_fft=2048 is too small for input signal of length=1960\n",
      "  warnings.warn(\n",
      "C:\\Users\\ackch\\anaconda3\\envs\\torch\\lib\\site-packages\\librosa\\core\\spectrum.py:222: UserWarning: n_fft=2048 is too small for input signal of length=2032\n",
      "  warnings.warn(\n"
     ]
    },
    {
     "name": "stdout",
     "output_type": "stream",
     "text": [
      "Wall time: 1min 9s\n"
     ]
    }
   ],
   "source": [
    "%%time\n",
    "X_list = []\n",
    "y_list = []\n",
    "for root,dirs,files in os.walk(directory):\n",
    "    for file in files:\n",
    "       if file.endswith(\".wav\"):\n",
    "         x, fs = librosa.load(Path_dataset+file, sr=SAMPLING_FRQ)\n",
    "         mfccs = librosa.feature.mfcc(x, sr=fs, n_mfcc=M)\n",
    "         for i in range(mfccs.shape[1]):\n",
    "           X_list.append(mfccs[:,i])\n",
    "           if file.startswith(\"cat\"):\n",
    "             y_list.append(0)\n",
    "           elif file.startswith(\"dog\"):\n",
    "             y_list.append(1)\n",
    "    break # avoid recursion"
   ]
  },
  {
   "cell_type": "code",
   "execution_count": 11,
   "metadata": {
    "id": "hOFfCirm5Bka"
   },
   "outputs": [],
   "source": [
    " X = np.asarray(X_list)\n",
    " y = np.asarray(y_list)"
   ]
  },
  {
   "cell_type": "code",
   "execution_count": 12,
   "metadata": {
    "colab": {
     "base_uri": "https://localhost:8080/"
    },
    "id": "VD7u00mL7ajg",
    "outputId": "21131d9c-d246-47f2-d10b-cfa194d1f951"
   },
   "outputs": [
    {
     "data": {
      "text/plain": [
       "(7634, 20)"
      ]
     },
     "execution_count": 12,
     "metadata": {},
     "output_type": "execute_result"
    }
   ],
   "source": [
    "X.shape"
   ]
  },
  {
   "cell_type": "code",
   "execution_count": 13,
   "metadata": {
    "colab": {
     "base_uri": "https://localhost:8080/"
    },
    "id": "uGce1bjh-f1l",
    "outputId": "79cb9569-eeaa-409e-f282-132c73d3ba1a"
   },
   "outputs": [
    {
     "data": {
      "text/plain": [
       "(7634,)"
      ]
     },
     "execution_count": 13,
     "metadata": {},
     "output_type": "execute_result"
    }
   ],
   "source": [
    "y.shape"
   ]
  },
  {
   "cell_type": "code",
   "execution_count": 14,
   "metadata": {
    "colab": {
     "base_uri": "https://localhost:8080/"
    },
    "id": "pM7DK2JWCE2S",
    "outputId": "03d61bd6-860a-4fc8-f489-aa1fdcedc66c"
   },
   "outputs": [
    {
     "data": {
      "text/plain": [
       "2396"
      ]
     },
     "execution_count": 14,
     "metadata": {},
     "output_type": "execute_result"
    }
   ],
   "source": [
    "np.bincount(y)[1]"
   ]
  },
  {
   "cell_type": "code",
   "execution_count": 15,
   "metadata": {
    "colab": {
     "base_uri": "https://localhost:8080/"
    },
    "id": "4P-MsrLhCch1",
    "outputId": "47f6ad9c-e8cb-498d-af59-f6dcd5c05713"
   },
   "outputs": [
    {
     "data": {
      "text/plain": [
       "5238"
      ]
     },
     "execution_count": 15,
     "metadata": {},
     "output_type": "execute_result"
    }
   ],
   "source": [
    "np.bincount(y)[0]"
   ]
  },
  {
   "cell_type": "code",
   "execution_count": 16,
   "metadata": {
    "id": "_ImrJ8__AdOR"
   },
   "outputs": [],
   "source": [
    "from sklearn.preprocessing import StandardScaler\n",
    "scaler = StandardScaler()\n",
    "X = scaler.fit_transform(X)"
   ]
  },
  {
   "cell_type": "code",
   "execution_count": 17,
   "metadata": {
    "id": "vBMKEfH_ARtH"
   },
   "outputs": [],
   "source": [
    "from sklearn.linear_model import LogisticRegression\n",
    "pipe_lr = LogisticRegression(random_state=14,\n",
    "               penalty='l1',\n",
    "               solver='liblinear',\n",
    "               max_iter=10000)"
   ]
  },
  {
   "cell_type": "code",
   "execution_count": 18,
   "metadata": {
    "colab": {
     "base_uri": "https://localhost:8080/"
    },
    "id": "cGWFad41_3Gn",
    "outputId": "36f01d12-8b9a-43fd-9468-5e7f1ca27bab"
   },
   "outputs": [
    {
     "name": "stdout",
     "output_type": "stream",
     "text": [
      "Fold:  1, Acc: 0.804\n",
      "Fold:  2, Acc: 0.630\n",
      "Fold:  3, Acc: 0.836\n",
      "Fold:  4, Acc: 0.809\n",
      "Fold:  5, Acc: 0.873\n",
      "Fold:  6, Acc: 0.887\n",
      "Fold:  7, Acc: 0.903\n",
      "Fold:  8, Acc: 0.936\n",
      "Fold:  9, Acc: 0.769\n",
      "Fold: 10, Acc: 0.632\n"
     ]
    },
    {
     "data": {
      "text/plain": [
       "0.8078534031413614"
      ]
     },
     "execution_count": 18,
     "metadata": {},
     "output_type": "execute_result"
    }
   ],
   "source": [
    "from sklearn.model_selection import StratifiedKFold\n",
    "kfold = StratifiedKFold(n_splits=10).split(X, y)\n",
    "scores = []\n",
    "for k, (train, test) in enumerate(kfold):\n",
    "     pipe_lr.fit(X[train], y[train])\n",
    "     score = pipe_lr.score(X[test], y[test])\n",
    "     scores.append(score)\n",
    "     print('Fold: %2d, Acc: %.3f' % (k+1, score))\n",
    "np.mean(scores)"
   ]
  },
  {
   "cell_type": "markdown",
   "metadata": {
    "id": "SZSMfsa5BQPs"
   },
   "source": [
    "Comments:\n",
    "\n",
    "* 10 fold accuracy is about 81.50%\n",
    "* This is good as there are only 2 labels and random chance would be 50% accuracy\n"
   ]
  },
  {
   "cell_type": "markdown",
   "metadata": {
    "id": "RxbtEq9_D6Ii"
   },
   "source": [
    "# 3. [50 pts] Train a simple RNN, as given in the module Jupyter notebook, by shuffling the list of the signals (the dataset has 277) and training the network sufficiently (suggested 50 times) and compare its performance to your previous evaluation in step (2.). \n",
    "\n",
    "Note that the train method in the module RNN can train a single signal. An epoch can be\n",
    "the training of all the signals where every signal entails the hidden layer to be initialized and\n",
    "gradients being reset at the training start"
   ]
  },
  {
   "cell_type": "markdown",
   "metadata": {
    "id": "evwwhWpA92wL"
   },
   "source": [
    "Preprocessing"
   ]
  },
  {
   "cell_type": "code",
   "execution_count": 19,
   "metadata": {
    "colab": {
     "base_uri": "https://localhost:8080/"
    },
    "id": "FnlItEqb95Je",
    "outputId": "be82451c-dc6a-4e9d-aac5-7874c2802bd4"
   },
   "outputs": [
    {
     "name": "stderr",
     "output_type": "stream",
     "text": [
      "C:\\Users\\ackch\\anaconda3\\envs\\torch\\lib\\site-packages\\librosa\\core\\spectrum.py:222: UserWarning: n_fft=2048 is too small for input signal of length=1884\n",
      "  warnings.warn(\n",
      "C:\\Users\\ackch\\anaconda3\\envs\\torch\\lib\\site-packages\\librosa\\core\\spectrum.py:222: UserWarning: n_fft=2048 is too small for input signal of length=1847\n",
      "  warnings.warn(\n",
      "C:\\Users\\ackch\\anaconda3\\envs\\torch\\lib\\site-packages\\librosa\\core\\spectrum.py:222: UserWarning: n_fft=2048 is too small for input signal of length=1969\n",
      "  warnings.warn(\n",
      "C:\\Users\\ackch\\anaconda3\\envs\\torch\\lib\\site-packages\\librosa\\core\\spectrum.py:222: UserWarning: n_fft=2048 is too small for input signal of length=1960\n",
      "  warnings.warn(\n",
      "C:\\Users\\ackch\\anaconda3\\envs\\torch\\lib\\site-packages\\librosa\\core\\spectrum.py:222: UserWarning: n_fft=2048 is too small for input signal of length=2032\n",
      "  warnings.warn(\n"
     ]
    }
   ],
   "source": [
    "# %%time\n",
    "X_list = []\n",
    "y_list = []\n",
    "for root,dirs,files in os.walk(directory):\n",
    "  for file in files:\n",
    "    if file.endswith(\".wav\"):\n",
    "      x, fs = librosa.load(Path_dataset+file, sr=SAMPLING_FRQ)\n",
    "      mfccs = librosa.feature.mfcc(x, sr=fs, n_mfcc=M)\n",
    "      tensor = torch.zeros(mfccs.shape[1], 1, M)\n",
    "      for i in range(mfccs.shape[1]):\n",
    "        tensor[i][0] = torch.from_numpy(mfccs[:,i]) # should be of length M\n",
    "      X_list.append(tensor)\n",
    "      if file.startswith(\"cat\"):\n",
    "        y_list.append(torch.tensor([0]))\n",
    "      elif file.startswith(\"dog\"):\n",
    "        y_list.append(torch.tensor([1]))\n",
    "  break # avoid recursion"
   ]
  },
  {
   "cell_type": "markdown",
   "metadata": {
    "id": "BhtXg_vRqi3U"
   },
   "source": [
    "Sanity Check"
   ]
  },
  {
   "cell_type": "code",
   "execution_count": 20,
   "metadata": {
    "colab": {
     "base_uri": "https://localhost:8080/"
    },
    "id": "0y7lrRYAdOqo",
    "outputId": "bc7e9535-c06a-4075-9687-3ac2023ba93d"
   },
   "outputs": [
    {
     "data": {
      "text/plain": [
       "277"
      ]
     },
     "execution_count": 20,
     "metadata": {},
     "output_type": "execute_result"
    }
   ],
   "source": [
    "len(X_list)"
   ]
  },
  {
   "cell_type": "code",
   "execution_count": 21,
   "metadata": {
    "colab": {
     "base_uri": "https://localhost:8080/"
    },
    "id": "rGZXM2hidOyl",
    "outputId": "fcb58691-fa59-49ec-ca41-e3685b7edfb4"
   },
   "outputs": [
    {
     "data": {
      "text/plain": [
       "277"
      ]
     },
     "execution_count": 21,
     "metadata": {},
     "output_type": "execute_result"
    }
   ],
   "source": [
    "len(y_list)"
   ]
  },
  {
   "cell_type": "code",
   "execution_count": 22,
   "metadata": {
    "colab": {
     "base_uri": "https://localhost:8080/"
    },
    "id": "t-LCX4ovqXWn",
    "outputId": "75794c9f-582a-4db7-c596-c5728a9738a9"
   },
   "outputs": [
    {
     "data": {
      "text/plain": [
       "torch.Size([44, 1, 20])"
      ]
     },
     "execution_count": 22,
     "metadata": {},
     "output_type": "execute_result"
    }
   ],
   "source": [
    "X_list[0].shape"
   ]
  },
  {
   "cell_type": "code",
   "execution_count": 23,
   "metadata": {
    "id": "yosCciExD488"
   },
   "outputs": [],
   "source": [
    "from sklearn.utils import shuffle\n",
    "X, y = shuffle(X_list, y_list, random_state=42)\n"
   ]
  },
  {
   "cell_type": "code",
   "execution_count": 24,
   "metadata": {
    "id": "xCBJmmgOGXAF"
   },
   "outputs": [],
   "source": [
    "import torch.nn as nn\n",
    "import torch.optim as optim\n",
    "\n",
    "all_categories = [0,1]\n",
    "\n",
    "def categoryFromOutput(output):\n",
    "    top_n, top_i = output.topk(1)\n",
    "    category_i = top_i[0].item()\n",
    "    return all_categories[category_i], category_i\n",
    "\n",
    "class RNN(nn.Module):\n",
    "    def __init__(self, n_features, n_hidden, n_output, eta=0.0005,epochs=50,minibatch_size=50 ):\n",
    "        super(RNN, self).__init__()\n",
    "\n",
    "        self.n_features = n_features\n",
    "        self.n_hidden = n_hidden\n",
    "\n",
    "        self.i2h = nn.Linear(n_features + n_hidden, n_hidden)\n",
    "        self.i2o = nn.Linear(n_features + n_hidden, n_output)\n",
    "        self.softmax = nn.LogSoftmax(dim=1)\n",
    "\n",
    "        self.eta = eta  # learning rate\n",
    "        \n",
    "        # loss , since the last layer is nn.LogSoftmax\n",
    "        self.criterion = nn.NLLLoss()\n",
    "\n",
    "        self.epochs = epochs  # number of iterations\n",
    "        self.minibatch_size = minibatch_size  # size of training batch - 1 would not work\n",
    "\n",
    "\n",
    "\n",
    "    def forward(self, x, hidden):\n",
    "        combined = torch.cat((x, hidden), dim=1)\n",
    "        hidden = self.i2h(combined)\n",
    "        output = self.i2o(combined)\n",
    "        output = self.softmax(output)\n",
    "        return output, hidden\n",
    "\n",
    "    def init_hidden(self):\n",
    "        return torch.zeros(1, self.n_hidden)\n",
    "\n",
    "    def train_signal(self, sxx, y):\n",
    "        hidden = self.init_hidden()\n",
    "        self.zero_grad()\n",
    "\n",
    "        T = sxx.shape[0]\n",
    "        for i in range(T):\n",
    "            output, hidden = self.forward(sxx[i].reshape(1,self.n_features), hidden)\n",
    "        loss = self.criterion(output, y)\n",
    "        loss.backward()\n",
    "        \n",
    "        for p in self.parameters():\n",
    "            p.data.add_(-self.eta, p.grad.data)\n",
    "\n",
    "        return output, loss.item()\n",
    "\n",
    "        \n",
    "    \n",
    "    def fit(self, X_train, y_train):\n",
    "      for i in range(self.epochs):\n",
    "        for index in range(len(X_train)): # go through all training examples\n",
    "          output, loss = self.train_signal( X_train[index],y_train[index])\n",
    "\n",
    "    def predict_signal(self, sxx):\n",
    "      with torch.no_grad():\n",
    "        hidden = self.init_hidden()\n",
    "        T = sxx.shape[0]\n",
    "        for i in range(T):\n",
    "          output, hidden = self.forward(sxx[i].reshape(1,self.n_features), hidden)\n",
    "        guess, guess_i = categoryFromOutput(output)\n",
    "        return guess\n",
    "    def predict(self,x_arr):\n",
    "      y_pred = []\n",
    "      for sxx in x_arr:\n",
    "        y_pred.append(self.predict_signal(sxx))\n",
    "      return y_pred"
   ]
  },
  {
   "cell_type": "code",
   "execution_count": 25,
   "metadata": {
    "id": "p-PJxBexVFPi"
   },
   "outputs": [],
   "source": [
    "def kfold_eval_docs(_clf, _Xdocs, _ydocs):\n",
    "    from sklearn.model_selection import StratifiedKFold\n",
    "    from sklearn.metrics import accuracy_score\n",
    "\n",
    "    # Need indexable data structure\n",
    "    acc = []\n",
    "    kf = StratifiedKFold(n_splits=10, shuffle=False, random_state=None)\n",
    "    for train_index, test_index in kf.split(_Xdocs, _ydocs):\n",
    "      X_train = [ _Xdocs[i] for i in train_index]\n",
    "      y_train = [ _ydocs[i] for i in train_index]\n",
    "      X_test = [ _Xdocs[i] for i in test_index]\n",
    "      y_test = [ _ydocs[i] for i in test_index]\n",
    "      _clf.fit(X_train, y_train)\n",
    "      y_pred = _clf.predict(X_test)\n",
    "      acc += [accuracy_score(np.array(y_test), np.array(y_pred))]\n",
    "    return np.array(acc)"
   ]
  },
  {
   "cell_type": "code",
   "execution_count": 26,
   "metadata": {
    "colab": {
     "base_uri": "https://localhost:8080/"
    },
    "id": "tqqdaWmyGXd_",
    "outputId": "b4704185-2356-436a-b2bc-083444e48246"
   },
   "outputs": [
    {
     "name": "stderr",
     "output_type": "stream",
     "text": [
      "<ipython-input-24-b524bd6105d2>:53: UserWarning: This overload of add_ is deprecated:\n",
      "\tadd_(Number alpha, Tensor other)\n",
      "Consider using one of the following signatures instead:\n",
      "\tadd_(Tensor other, *, Number alpha) (Triggered internally at  ..\\torch\\csrc\\utils\\python_arg_parser.cpp:766.)\n",
      "  p.data.add_(-self.eta, p.grad.data)\n"
     ]
    },
    {
     "name": "stdout",
     "output_type": "stream",
     "text": [
      "PyTorch 10-fold CV accuracy= 0.77 ±0.104\n"
     ]
    }
   ],
   "source": [
    "# %%time\n",
    "clf = RNN(20, 1, 2)\n",
    "\n",
    "# acc = kfold_eval_docs(clf, torch.tensor(X), torch.tensor(y))\n",
    "acc = kfold_eval_docs(clf, X, y)\n",
    "\n",
    "\n",
    "print(f\"PyTorch 10-fold CV accuracy= {np.mean(acc):.2f} {chr(177)}{np.std(acc):.3f}\")"
   ]
  },
  {
   "cell_type": "markdown",
   "metadata": {
    "id": "MmfPZ3L8xdO5"
   },
   "source": [
    "Comments:\n",
    "* Accuracy was worse than the Logistic Regression Model `77%` vs. `81.50%`."
   ]
  },
  {
   "cell_type": "markdown",
   "metadata": {
    "id": "LPT2LeOXwu0S"
   },
   "source": [
    "# 4. [10 pts] Compare and contrast the method applied in this assignment to the image classification\n",
    "\n",
    "* The image classification assignment was more simple the data preprocessing did not have to account for sequences of variable length.\n",
    "* The image classificaiton multilayer perceptron however was much more difficult to debug as we had to implement the backpropagation versus the simple `.backward()` function that PyTorch provides. \n",
    "* Recurrent neural networks are also very simple to create with layer definition only requiring a simple recursive reference to each layer for feedback. I could not imaging how to code this up from scratch like we did with the MLP in the image classification assignment!"
   ]
  }
 ],
 "metadata": {
  "colab": {
   "collapsed_sections": [],
   "name": "Chan-Assign13.ipynb",
   "provenance": []
  },
  "kernelspec": {
   "display_name": "Python 3",
   "language": "python",
   "name": "python3"
  },
  "language_info": {
   "codemirror_mode": {
    "name": "ipython",
    "version": 3
   },
   "file_extension": ".py",
   "mimetype": "text/x-python",
   "name": "python",
   "nbconvert_exporter": "python",
   "pygments_lexer": "ipython3",
   "version": "3.8.8"
  }
 },
 "nbformat": 4,
 "nbformat_minor": 1
}
