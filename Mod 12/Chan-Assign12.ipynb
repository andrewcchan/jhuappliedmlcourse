{
 "cells": [
  {
   "cell_type": "markdown",
   "metadata": {},
   "source": [
    "# Assignment 12\n",
    "## Applied Machine Learning\n",
    "\n",
    "Andrew Chan \n",
    "EBE869"
   ]
  },
  {
   "cell_type": "markdown",
   "metadata": {},
   "source": [
    "Credit card fraud costs about 1% to the banks, an amount which customers (us) eventually\n",
    "pay. Let's find those anomalies which might reveal fraud. Download the popular credit card\n",
    "dataset from Kaggle."
   ]
  },
  {
   "cell_type": "markdown",
   "metadata": {},
   "source": [
    "# 1. [10 pts] Pre-process the dataset, and then apply normalization or standardization, list number of rows and columns, check sanity"
   ]
  },
  {
   "cell_type": "code",
   "execution_count": 1,
   "metadata": {},
   "outputs": [],
   "source": [
    "%matplotlib inline\n",
    "import matplotlib.pyplot as plt\n",
    "import pandas as pd\n",
    "import math\n",
    "import numpy as np\n",
    "\n",
    "# Locate and load the data file\n",
    "df = pd.read_csv('creditcard.csv')"
   ]
  },
  {
   "cell_type": "code",
   "execution_count": 2,
   "metadata": {},
   "outputs": [
    {
     "data": {
      "text/html": [
       "<div>\n",
       "<style scoped>\n",
       "    .dataframe tbody tr th:only-of-type {\n",
       "        vertical-align: middle;\n",
       "    }\n",
       "\n",
       "    .dataframe tbody tr th {\n",
       "        vertical-align: top;\n",
       "    }\n",
       "\n",
       "    .dataframe thead th {\n",
       "        text-align: right;\n",
       "    }\n",
       "</style>\n",
       "<table border=\"1\" class=\"dataframe\">\n",
       "  <thead>\n",
       "    <tr style=\"text-align: right;\">\n",
       "      <th></th>\n",
       "      <th>Time</th>\n",
       "      <th>V1</th>\n",
       "      <th>V2</th>\n",
       "      <th>V3</th>\n",
       "      <th>V4</th>\n",
       "      <th>V5</th>\n",
       "      <th>V6</th>\n",
       "      <th>V7</th>\n",
       "      <th>V8</th>\n",
       "      <th>V9</th>\n",
       "      <th>...</th>\n",
       "      <th>V21</th>\n",
       "      <th>V22</th>\n",
       "      <th>V23</th>\n",
       "      <th>V24</th>\n",
       "      <th>V25</th>\n",
       "      <th>V26</th>\n",
       "      <th>V27</th>\n",
       "      <th>V28</th>\n",
       "      <th>Amount</th>\n",
       "      <th>Class</th>\n",
       "    </tr>\n",
       "  </thead>\n",
       "  <tbody>\n",
       "    <tr>\n",
       "      <th>0</th>\n",
       "      <td>0.0</td>\n",
       "      <td>-1.359807</td>\n",
       "      <td>-0.072781</td>\n",
       "      <td>2.536347</td>\n",
       "      <td>1.378155</td>\n",
       "      <td>-0.338321</td>\n",
       "      <td>0.462388</td>\n",
       "      <td>0.239599</td>\n",
       "      <td>0.098698</td>\n",
       "      <td>0.363787</td>\n",
       "      <td>...</td>\n",
       "      <td>-0.018307</td>\n",
       "      <td>0.277838</td>\n",
       "      <td>-0.110474</td>\n",
       "      <td>0.066928</td>\n",
       "      <td>0.128539</td>\n",
       "      <td>-0.189115</td>\n",
       "      <td>0.133558</td>\n",
       "      <td>-0.021053</td>\n",
       "      <td>149.62</td>\n",
       "      <td>0</td>\n",
       "    </tr>\n",
       "    <tr>\n",
       "      <th>1</th>\n",
       "      <td>0.0</td>\n",
       "      <td>1.191857</td>\n",
       "      <td>0.266151</td>\n",
       "      <td>0.166480</td>\n",
       "      <td>0.448154</td>\n",
       "      <td>0.060018</td>\n",
       "      <td>-0.082361</td>\n",
       "      <td>-0.078803</td>\n",
       "      <td>0.085102</td>\n",
       "      <td>-0.255425</td>\n",
       "      <td>...</td>\n",
       "      <td>-0.225775</td>\n",
       "      <td>-0.638672</td>\n",
       "      <td>0.101288</td>\n",
       "      <td>-0.339846</td>\n",
       "      <td>0.167170</td>\n",
       "      <td>0.125895</td>\n",
       "      <td>-0.008983</td>\n",
       "      <td>0.014724</td>\n",
       "      <td>2.69</td>\n",
       "      <td>0</td>\n",
       "    </tr>\n",
       "    <tr>\n",
       "      <th>2</th>\n",
       "      <td>1.0</td>\n",
       "      <td>-1.358354</td>\n",
       "      <td>-1.340163</td>\n",
       "      <td>1.773209</td>\n",
       "      <td>0.379780</td>\n",
       "      <td>-0.503198</td>\n",
       "      <td>1.800499</td>\n",
       "      <td>0.791461</td>\n",
       "      <td>0.247676</td>\n",
       "      <td>-1.514654</td>\n",
       "      <td>...</td>\n",
       "      <td>0.247998</td>\n",
       "      <td>0.771679</td>\n",
       "      <td>0.909412</td>\n",
       "      <td>-0.689281</td>\n",
       "      <td>-0.327642</td>\n",
       "      <td>-0.139097</td>\n",
       "      <td>-0.055353</td>\n",
       "      <td>-0.059752</td>\n",
       "      <td>378.66</td>\n",
       "      <td>0</td>\n",
       "    </tr>\n",
       "    <tr>\n",
       "      <th>3</th>\n",
       "      <td>1.0</td>\n",
       "      <td>-0.966272</td>\n",
       "      <td>-0.185226</td>\n",
       "      <td>1.792993</td>\n",
       "      <td>-0.863291</td>\n",
       "      <td>-0.010309</td>\n",
       "      <td>1.247203</td>\n",
       "      <td>0.237609</td>\n",
       "      <td>0.377436</td>\n",
       "      <td>-1.387024</td>\n",
       "      <td>...</td>\n",
       "      <td>-0.108300</td>\n",
       "      <td>0.005274</td>\n",
       "      <td>-0.190321</td>\n",
       "      <td>-1.175575</td>\n",
       "      <td>0.647376</td>\n",
       "      <td>-0.221929</td>\n",
       "      <td>0.062723</td>\n",
       "      <td>0.061458</td>\n",
       "      <td>123.50</td>\n",
       "      <td>0</td>\n",
       "    </tr>\n",
       "    <tr>\n",
       "      <th>4</th>\n",
       "      <td>2.0</td>\n",
       "      <td>-1.158233</td>\n",
       "      <td>0.877737</td>\n",
       "      <td>1.548718</td>\n",
       "      <td>0.403034</td>\n",
       "      <td>-0.407193</td>\n",
       "      <td>0.095921</td>\n",
       "      <td>0.592941</td>\n",
       "      <td>-0.270533</td>\n",
       "      <td>0.817739</td>\n",
       "      <td>...</td>\n",
       "      <td>-0.009431</td>\n",
       "      <td>0.798278</td>\n",
       "      <td>-0.137458</td>\n",
       "      <td>0.141267</td>\n",
       "      <td>-0.206010</td>\n",
       "      <td>0.502292</td>\n",
       "      <td>0.219422</td>\n",
       "      <td>0.215153</td>\n",
       "      <td>69.99</td>\n",
       "      <td>0</td>\n",
       "    </tr>\n",
       "  </tbody>\n",
       "</table>\n",
       "<p>5 rows × 31 columns</p>\n",
       "</div>"
      ],
      "text/plain": [
       "   Time        V1        V2        V3        V4        V5        V6        V7  \\\n",
       "0   0.0 -1.359807 -0.072781  2.536347  1.378155 -0.338321  0.462388  0.239599   \n",
       "1   0.0  1.191857  0.266151  0.166480  0.448154  0.060018 -0.082361 -0.078803   \n",
       "2   1.0 -1.358354 -1.340163  1.773209  0.379780 -0.503198  1.800499  0.791461   \n",
       "3   1.0 -0.966272 -0.185226  1.792993 -0.863291 -0.010309  1.247203  0.237609   \n",
       "4   2.0 -1.158233  0.877737  1.548718  0.403034 -0.407193  0.095921  0.592941   \n",
       "\n",
       "         V8        V9  ...       V21       V22       V23       V24       V25  \\\n",
       "0  0.098698  0.363787  ... -0.018307  0.277838 -0.110474  0.066928  0.128539   \n",
       "1  0.085102 -0.255425  ... -0.225775 -0.638672  0.101288 -0.339846  0.167170   \n",
       "2  0.247676 -1.514654  ...  0.247998  0.771679  0.909412 -0.689281 -0.327642   \n",
       "3  0.377436 -1.387024  ... -0.108300  0.005274 -0.190321 -1.175575  0.647376   \n",
       "4 -0.270533  0.817739  ... -0.009431  0.798278 -0.137458  0.141267 -0.206010   \n",
       "\n",
       "        V26       V27       V28  Amount  Class  \n",
       "0 -0.189115  0.133558 -0.021053  149.62      0  \n",
       "1  0.125895 -0.008983  0.014724    2.69      0  \n",
       "2 -0.139097 -0.055353 -0.059752  378.66      0  \n",
       "3 -0.221929  0.062723  0.061458  123.50      0  \n",
       "4  0.502292  0.219422  0.215153   69.99      0  \n",
       "\n",
       "[5 rows x 31 columns]"
      ]
     },
     "execution_count": 2,
     "metadata": {},
     "output_type": "execute_result"
    }
   ],
   "source": [
    "df.head()"
   ]
  },
  {
   "cell_type": "code",
   "execution_count": 3,
   "metadata": {},
   "outputs": [
    {
     "data": {
      "text/plain": [
       "(284807, 31)"
      ]
     },
     "execution_count": 3,
     "metadata": {},
     "output_type": "execute_result"
    }
   ],
   "source": [
    "df.shape"
   ]
  },
  {
   "cell_type": "code",
   "execution_count": 4,
   "metadata": {},
   "outputs": [
    {
     "data": {
      "text/plain": [
       "array(['Time', 'V1', 'V2', 'V3', 'V4', 'V5', 'V6', 'V7', 'V8', 'V9',\n",
       "       'V10', 'V11', 'V12', 'V13', 'V14', 'V15', 'V16', 'V17', 'V18',\n",
       "       'V19', 'V20', 'V21', 'V22', 'V23', 'V24', 'V25', 'V26', 'V27',\n",
       "       'V28', 'Amount', 'Class'], dtype=object)"
      ]
     },
     "execution_count": 4,
     "metadata": {},
     "output_type": "execute_result"
    }
   ],
   "source": [
    "df.columns.values"
   ]
  },
  {
   "cell_type": "code",
   "execution_count": 5,
   "metadata": {},
   "outputs": [
    {
     "data": {
      "text/plain": [
       "Time      float64\n",
       "V1        float64\n",
       "V2        float64\n",
       "V3        float64\n",
       "V4        float64\n",
       "V5        float64\n",
       "V6        float64\n",
       "V7        float64\n",
       "V8        float64\n",
       "V9        float64\n",
       "V10       float64\n",
       "V11       float64\n",
       "V12       float64\n",
       "V13       float64\n",
       "V14       float64\n",
       "V15       float64\n",
       "V16       float64\n",
       "V17       float64\n",
       "V18       float64\n",
       "V19       float64\n",
       "V20       float64\n",
       "V21       float64\n",
       "V22       float64\n",
       "V23       float64\n",
       "V24       float64\n",
       "V25       float64\n",
       "V26       float64\n",
       "V27       float64\n",
       "V28       float64\n",
       "Amount    float64\n",
       "Class       int64\n",
       "dtype: object"
      ]
     },
     "execution_count": 5,
     "metadata": {},
     "output_type": "execute_result"
    }
   ],
   "source": [
    "df.dtypes"
   ]
  },
  {
   "cell_type": "markdown",
   "metadata": {},
   "source": [
    "## Mean Imputation"
   ]
  },
  {
   "cell_type": "code",
   "execution_count": 6,
   "metadata": {},
   "outputs": [],
   "source": [
    "df = df.fillna(df.mean())"
   ]
  },
  {
   "cell_type": "markdown",
   "metadata": {},
   "source": [
    "## Standardization"
   ]
  },
  {
   "cell_type": "code",
   "execution_count": 7,
   "metadata": {},
   "outputs": [],
   "source": [
    "from sklearn.preprocessing import StandardScaler\n",
    "scaler = StandardScaler()\n",
    "columns_without_target = ['Time', 'V1', 'V2', 'V3', 'V4', 'V5', 'V6', 'V7', 'V8', 'V9',\n",
    "       'V10', 'V11', 'V12', 'V13', 'V14', 'V15', 'V16', 'V17', 'V18',\n",
    "       'V19', 'V20', 'V21', 'V22', 'V23', 'V24', 'V25', 'V26', 'V27',\n",
    "       'V28', 'Amount']\n",
    "df[columns_without_target] = scaler.fit_transform(df[columns_without_target])"
   ]
  },
  {
   "cell_type": "markdown",
   "metadata": {},
   "source": [
    "## Correlation for feature reduction"
   ]
  },
  {
   "cell_type": "code",
   "execution_count": 8,
   "metadata": {},
   "outputs": [
    {
     "data": {
      "text/plain": [
       "Class     1.000000\n",
       "V11       0.154876\n",
       "V4        0.133447\n",
       "V2        0.091289\n",
       "V21       0.040413\n",
       "V19       0.034783\n",
       "V20       0.020090\n",
       "V8        0.019875\n",
       "V27       0.017580\n",
       "V28       0.009536\n",
       "Amount    0.005632\n",
       "V26       0.004455\n",
       "V25       0.003308\n",
       "V22       0.000805\n",
       "V23      -0.002685\n",
       "V15      -0.004223\n",
       "V13      -0.004570\n",
       "V24      -0.007221\n",
       "Time     -0.012323\n",
       "V6       -0.043643\n",
       "V5       -0.094974\n",
       "V9       -0.097733\n",
       "V1       -0.101347\n",
       "V18      -0.111485\n",
       "V7       -0.187257\n",
       "V3       -0.192961\n",
       "V16      -0.196539\n",
       "V10      -0.216883\n",
       "V12      -0.260593\n",
       "V14      -0.302544\n",
       "V17      -0.326481\n",
       "Name: Class, dtype: float64"
      ]
     },
     "execution_count": 8,
     "metadata": {},
     "output_type": "execute_result"
    }
   ],
   "source": [
    "df.corr().sort_values(by='Class', ascending=False)['Class']"
   ]
  },
  {
   "cell_type": "markdown",
   "metadata": {},
   "source": [
    "## Selecting highly correlated features with 'Class'"
   ]
  },
  {
   "cell_type": "markdown",
   "metadata": {},
   "source": [
    "\n",
    "|Feature|Corr|\n",
    "-|-\n",
    "V11    |     0.154876  \n",
    "V4     |     0.133447  \n",
    "V1     |   -0.101347  \n",
    "V18    |  -0.111485  \n",
    "V7     |    -0.187257  \n",
    "V3     |    -0.192961  \n",
    "V16    |    -0.196539  \n",
    "V10    |    -0.216883  \n",
    "V12    |    -0.260593  \n",
    "V14    |    -0.302544  \n",
    "V17    |    -0.326481  "
   ]
  },
  {
   "cell_type": "code",
   "execution_count": 9,
   "metadata": {},
   "outputs": [],
   "source": [
    "# selected_features_with_label = ['V11','V4','V1','V18','V7','V3','V16','V10','V12','V14','V17','Class']\n",
    "selected_features_with_label = ['V10','V12','V14','V17','Class']"
   ]
  },
  {
   "cell_type": "code",
   "execution_count": 10,
   "metadata": {},
   "outputs": [],
   "source": [
    "df = df[selected_features_with_label]"
   ]
  },
  {
   "cell_type": "markdown",
   "metadata": {},
   "source": [
    "## Sanity check number of rows and columns"
   ]
  },
  {
   "cell_type": "code",
   "execution_count": 11,
   "metadata": {
    "scrolled": true
   },
   "outputs": [
    {
     "name": "stdout",
     "output_type": "stream",
     "text": [
      "N rows=284807, M columns=5\n"
     ]
    },
    {
     "data": {
      "text/html": [
       "<div>\n",
       "<style scoped>\n",
       "    .dataframe tbody tr th:only-of-type {\n",
       "        vertical-align: middle;\n",
       "    }\n",
       "\n",
       "    .dataframe tbody tr th {\n",
       "        vertical-align: top;\n",
       "    }\n",
       "\n",
       "    .dataframe thead th {\n",
       "        text-align: right;\n",
       "    }\n",
       "</style>\n",
       "<table border=\"1\" class=\"dataframe\">\n",
       "  <thead>\n",
       "    <tr style=\"text-align: right;\">\n",
       "      <th></th>\n",
       "      <th>V10</th>\n",
       "      <th>V12</th>\n",
       "      <th>V14</th>\n",
       "      <th>V17</th>\n",
       "      <th>Class</th>\n",
       "    </tr>\n",
       "  </thead>\n",
       "  <tbody>\n",
       "    <tr>\n",
       "      <th>0</th>\n",
       "      <td>0.083386</td>\n",
       "      <td>-0.618296</td>\n",
       "      <td>-0.324610</td>\n",
       "      <td>0.244863</td>\n",
       "      <td>0</td>\n",
       "    </tr>\n",
       "    <tr>\n",
       "      <th>1</th>\n",
       "      <td>-0.153350</td>\n",
       "      <td>1.066089</td>\n",
       "      <td>-0.149982</td>\n",
       "      <td>-0.135170</td>\n",
       "      <td>0</td>\n",
       "    </tr>\n",
       "    <tr>\n",
       "      <th>2</th>\n",
       "      <td>0.190700</td>\n",
       "      <td>0.066137</td>\n",
       "      <td>-0.173114</td>\n",
       "      <td>1.306868</td>\n",
       "      <td>0</td>\n",
       "    </tr>\n",
       "    <tr>\n",
       "      <th>3</th>\n",
       "      <td>-0.050468</td>\n",
       "      <td>0.178371</td>\n",
       "      <td>-0.300360</td>\n",
       "      <td>-0.805445</td>\n",
       "      <td>0</td>\n",
       "    </tr>\n",
       "    <tr>\n",
       "      <th>4</th>\n",
       "      <td>0.691625</td>\n",
       "      <td>0.538627</td>\n",
       "      <td>-1.168034</td>\n",
       "      <td>-0.279081</td>\n",
       "      <td>0</td>\n",
       "    </tr>\n",
       "  </tbody>\n",
       "</table>\n",
       "</div>"
      ],
      "text/plain": [
       "        V10       V12       V14       V17  Class\n",
       "0  0.083386 -0.618296 -0.324610  0.244863      0\n",
       "1 -0.153350  1.066089 -0.149982 -0.135170      0\n",
       "2  0.190700  0.066137 -0.173114  1.306868      0\n",
       "3 -0.050468  0.178371 -0.300360 -0.805445      0\n",
       "4  0.691625  0.538627 -1.168034 -0.279081      0"
      ]
     },
     "execution_count": 11,
     "metadata": {},
     "output_type": "execute_result"
    }
   ],
   "source": [
    "# Sanity check\n",
    "print(f'N rows={len(df)}, M columns={len(df.columns)}')\n",
    "df.head()"
   ]
  },
  {
   "cell_type": "markdown",
   "metadata": {},
   "source": [
    "# 2. [10 pts] Check the class balance and pick an evaluation metric."
   ]
  },
  {
   "cell_type": "markdown",
   "metadata": {},
   "source": [
    "### Class Balance"
   ]
  },
  {
   "cell_type": "code",
   "execution_count": 12,
   "metadata": {},
   "outputs": [
    {
     "data": {
      "text/plain": [
       "0    284315\n",
       "1       492\n",
       "Name: Class, dtype: int64"
      ]
     },
     "execution_count": 12,
     "metadata": {},
     "output_type": "execute_result"
    }
   ],
   "source": [
    "df['Class'].value_counts()"
   ]
  },
  {
   "cell_type": "markdown",
   "metadata": {},
   "source": [
    "### Evaluation Metric\n",
    "\n",
    "Since the class balance is heavily skewed towards no fraud, we should use `Recall` (`true positive rate`) since we'd rather error on the side of caution and label fraud versus not. If we miss fraud we could potentially lose a lot of money if a customer cancels their credit card with us:\n",
    "\n",
    "$RECALL = TPR = \\frac{TP}{P} = \\frac{TP}{FN + TP}$"
   ]
  },
  {
   "cell_type": "markdown",
   "metadata": {},
   "source": [
    "# 3. [20 pts] Split the dataset 50-50 for training and testing. \n",
    "Then run DecisionTreeClassifier,\n",
    "SVC, MLPClassifier without any tree pruning or regularization. Report the classification\n",
    "performance."
   ]
  },
  {
   "cell_type": "code",
   "execution_count": 13,
   "metadata": {},
   "outputs": [],
   "source": [
    "X = df.drop(['Class'], axis=1).values\n",
    "y = df['Class'].values"
   ]
  },
  {
   "cell_type": "markdown",
   "metadata": {},
   "source": [
    "## 50-50 split"
   ]
  },
  {
   "cell_type": "code",
   "execution_count": 14,
   "metadata": {},
   "outputs": [],
   "source": [
    "from sklearn.model_selection import train_test_split\n",
    "from sklearn.metrics import confusion_matrix\n",
    "from sklearn import metrics\n",
    "\n",
    "X_train, X_test, y_train, y_test = train_test_split(X, y, test_size = 0.5, random_state=0)"
   ]
  },
  {
   "cell_type": "markdown",
   "metadata": {},
   "source": [
    "## DecisionTreeClassifier"
   ]
  },
  {
   "cell_type": "code",
   "execution_count": 15,
   "metadata": {},
   "outputs": [
    {
     "data": {
      "image/png": "[encoded data removed]",
      "text/plain": [
       "<Figure size 432x288 with 1 Axes>"
      ]
     },
     "metadata": {
      "needs_background": "light"
     },
     "output_type": "display_data"
    }
   ],
   "source": [
    "from sklearn import tree\n",
    "\n",
    "clf1 = tree.DecisionTreeClassifier(random_state=0).fit(X_train, y_train)\n",
    "\n",
    "fig = plt.subplots(nrows=1, ncols=1)\n",
    "tree.plot_tree(clf1,\n",
    "              class_names=list(map(lambda x: str(x),df['Class'].unique())),\n",
    "              filled = True)\n",
    "\n",
    "plt.show()"
   ]
  },
  {
   "cell_type": "code",
   "execution_count": 16,
   "metadata": {},
   "outputs": [
    {
     "name": "stdout",
     "output_type": "stream",
     "text": [
      "RECALL SCORE: 0.6995884773662552\n"
     ]
    }
   ],
   "source": [
    "y_pred = clf1.predict(X_test)\n",
    "print('RECALL SCORE:',metrics.recall_score(y_test,y_pred))"
   ]
  },
  {
   "cell_type": "markdown",
   "metadata": {},
   "source": [
    "## SVC"
   ]
  },
  {
   "cell_type": "code",
   "execution_count": 17,
   "metadata": {},
   "outputs": [
    {
     "name": "stdout",
     "output_type": "stream",
     "text": [
      "RECALL SCORE: 0.6707818930041153\n"
     ]
    }
   ],
   "source": [
    "from sklearn import svm\n",
    "clf_rbf_svc = svm.SVC(kernel='rbf').fit(X_train, y_train)\n",
    "y_pred = clf_rbf_svc.predict(X_test)\n",
    "print('RECALL SCORE:',metrics.recall_score(y_test,y_pred))"
   ]
  },
  {
   "cell_type": "markdown",
   "metadata": {},
   "source": [
    "## MLP Classifier"
   ]
  },
  {
   "cell_type": "code",
   "execution_count": 18,
   "metadata": {},
   "outputs": [
    {
     "name": "stdout",
     "output_type": "stream",
     "text": [
      "RECALL SCORE: 0.7078189300411523\n"
     ]
    }
   ],
   "source": [
    "from sklearn.neural_network import MLPClassifier\n",
    "mlp1 = MLPClassifier(hidden_layer_sizes=(10,), alpha=0, random_state=None, max_iter=10000).fit(X_train,y_train)\n",
    "y_pred = mlp1.predict(X_test)\n",
    "print('RECALL SCORE:',metrics.recall_score(y_test,y_pred))"
   ]
  },
  {
   "cell_type": "markdown",
   "metadata": {},
   "source": [
    "# 4. [20 pts] Run DecisionTreeClassifier, SVC, MLPClassifier with tree pruning and regularization \n",
    "(Hint: Use GridSearchCV to optimize the regularization parameters). Report\n",
    "the classification performance."
   ]
  },
  {
   "cell_type": "markdown",
   "metadata": {},
   "source": [
    "## Decision Tree"
   ]
  },
  {
   "cell_type": "code",
   "execution_count": 19,
   "metadata": {},
   "outputs": [
    {
     "data": {
      "image/png": "[encoded data removed]",
      "text/plain": [
       "<Figure size 432x288 with 1 Axes>"
      ]
     },
     "metadata": {
      "needs_background": "light"
     },
     "output_type": "display_data"
    }
   ],
   "source": [
    "from sklearn import tree\n",
    "from sklearn.model_selection import GridSearchCV\n",
    "\n",
    "parameters = {'ccp_alpha':[1e-12, 1e-9, 1e-6, 1e-3]}\n",
    "clf_dt = tree.DecisionTreeClassifier(random_state=0)\n",
    "clf = GridSearchCV(clf_dt, parameters, scoring = 'recall')\n",
    "clf.fit(X_train, y_train)\n",
    "\n",
    "fig = plt.subplots(nrows=1, ncols=1)\n",
    "tree.plot_tree(clf.best_estimator_,\n",
    "              class_names=list(map(lambda x: str(x),df['Class'].unique())),\n",
    "              filled = True)\n",
    "plt.show()"
   ]
  },
  {
   "cell_type": "code",
   "execution_count": 20,
   "metadata": {},
   "outputs": [
    {
     "data": {
      "text/html": [
       "<div>\n",
       "<style scoped>\n",
       "    .dataframe tbody tr th:only-of-type {\n",
       "        vertical-align: middle;\n",
       "    }\n",
       "\n",
       "    .dataframe tbody tr th {\n",
       "        vertical-align: top;\n",
       "    }\n",
       "\n",
       "    .dataframe thead th {\n",
       "        text-align: right;\n",
       "    }\n",
       "</style>\n",
       "<table border=\"1\" class=\"dataframe\">\n",
       "  <thead>\n",
       "    <tr style=\"text-align: right;\">\n",
       "      <th></th>\n",
       "      <th>mean_fit_time</th>\n",
       "      <th>std_fit_time</th>\n",
       "      <th>mean_score_time</th>\n",
       "      <th>std_score_time</th>\n",
       "      <th>param_ccp_alpha</th>\n",
       "      <th>params</th>\n",
       "      <th>split0_test_score</th>\n",
       "      <th>split1_test_score</th>\n",
       "      <th>split2_test_score</th>\n",
       "      <th>split3_test_score</th>\n",
       "      <th>split4_test_score</th>\n",
       "      <th>mean_test_score</th>\n",
       "      <th>std_test_score</th>\n",
       "      <th>rank_test_score</th>\n",
       "    </tr>\n",
       "  </thead>\n",
       "  <tbody>\n",
       "    <tr>\n",
       "      <th>0</th>\n",
       "      <td>0.876610</td>\n",
       "      <td>0.071107</td>\n",
       "      <td>0.010121</td>\n",
       "      <td>0.000024</td>\n",
       "      <td>1e-12</td>\n",
       "      <td>{'ccp_alpha': 1e-12}</td>\n",
       "      <td>0.76</td>\n",
       "      <td>0.84</td>\n",
       "      <td>0.76</td>\n",
       "      <td>0.714286</td>\n",
       "      <td>0.70</td>\n",
       "      <td>0.754857</td>\n",
       "      <td>0.048903</td>\n",
       "      <td>1</td>\n",
       "    </tr>\n",
       "    <tr>\n",
       "      <th>1</th>\n",
       "      <td>1.287351</td>\n",
       "      <td>0.471503</td>\n",
       "      <td>0.011606</td>\n",
       "      <td>0.006136</td>\n",
       "      <td>1e-09</td>\n",
       "      <td>{'ccp_alpha': 1e-09}</td>\n",
       "      <td>0.76</td>\n",
       "      <td>0.84</td>\n",
       "      <td>0.76</td>\n",
       "      <td>0.714286</td>\n",
       "      <td>0.70</td>\n",
       "      <td>0.754857</td>\n",
       "      <td>0.048903</td>\n",
       "      <td>1</td>\n",
       "    </tr>\n",
       "    <tr>\n",
       "      <th>2</th>\n",
       "      <td>1.114341</td>\n",
       "      <td>0.330069</td>\n",
       "      <td>0.008513</td>\n",
       "      <td>0.003230</td>\n",
       "      <td>1e-06</td>\n",
       "      <td>{'ccp_alpha': 1e-06}</td>\n",
       "      <td>0.76</td>\n",
       "      <td>0.84</td>\n",
       "      <td>0.76</td>\n",
       "      <td>0.714286</td>\n",
       "      <td>0.70</td>\n",
       "      <td>0.754857</td>\n",
       "      <td>0.048903</td>\n",
       "      <td>1</td>\n",
       "    </tr>\n",
       "    <tr>\n",
       "      <th>3</th>\n",
       "      <td>0.863318</td>\n",
       "      <td>0.081805</td>\n",
       "      <td>0.004853</td>\n",
       "      <td>0.005197</td>\n",
       "      <td>0.001</td>\n",
       "      <td>{'ccp_alpha': 0.001}</td>\n",
       "      <td>0.68</td>\n",
       "      <td>0.80</td>\n",
       "      <td>0.64</td>\n",
       "      <td>0.612245</td>\n",
       "      <td>0.48</td>\n",
       "      <td>0.642449</td>\n",
       "      <td>0.103480</td>\n",
       "      <td>4</td>\n",
       "    </tr>\n",
       "  </tbody>\n",
       "</table>\n",
       "</div>"
      ],
      "text/plain": [
       "   mean_fit_time  std_fit_time  mean_score_time  std_score_time  \\\n",
       "0       0.876610      0.071107         0.010121        0.000024   \n",
       "1       1.287351      0.471503         0.011606        0.006136   \n",
       "2       1.114341      0.330069         0.008513        0.003230   \n",
       "3       0.863318      0.081805         0.004853        0.005197   \n",
       "\n",
       "  param_ccp_alpha                params  split0_test_score  split1_test_score  \\\n",
       "0           1e-12  {'ccp_alpha': 1e-12}               0.76               0.84   \n",
       "1           1e-09  {'ccp_alpha': 1e-09}               0.76               0.84   \n",
       "2           1e-06  {'ccp_alpha': 1e-06}               0.76               0.84   \n",
       "3           0.001  {'ccp_alpha': 0.001}               0.68               0.80   \n",
       "\n",
       "   split2_test_score  split3_test_score  split4_test_score  mean_test_score  \\\n",
       "0               0.76           0.714286               0.70         0.754857   \n",
       "1               0.76           0.714286               0.70         0.754857   \n",
       "2               0.76           0.714286               0.70         0.754857   \n",
       "3               0.64           0.612245               0.48         0.642449   \n",
       "\n",
       "   std_test_score  rank_test_score  \n",
       "0        0.048903                1  \n",
       "1        0.048903                1  \n",
       "2        0.048903                1  \n",
       "3        0.103480                4  "
      ]
     },
     "execution_count": 20,
     "metadata": {},
     "output_type": "execute_result"
    }
   ],
   "source": [
    "pd.DataFrame(clf.cv_results_)"
   ]
  },
  {
   "cell_type": "code",
   "execution_count": 21,
   "metadata": {},
   "outputs": [
    {
     "name": "stdout",
     "output_type": "stream",
     "text": [
      "RECALL SCORE: 0.6995884773662552\n"
     ]
    }
   ],
   "source": [
    "y_pred = clf.best_estimator_.predict(X_test)\n",
    "dt_recall_50 = metrics.recall_score(y_test,y_pred)\n",
    "print('RECALL SCORE:', dt_recall_50)"
   ]
  },
  {
   "cell_type": "markdown",
   "metadata": {},
   "source": [
    "## SVC"
   ]
  },
  {
   "cell_type": "code",
   "execution_count": 22,
   "metadata": {},
   "outputs": [],
   "source": [
    "parameters = {'kernel':['rbf'], 'C':[1e-3,10,1e3]}\n",
    "clf_rbf_svc = GridSearchCV(svm.SVC(), parameters, scoring = 'recall')\n",
    "clf_rbf_svc.fit(X_train, y_train)\n",
    "y_pred = clf_rbf_svc.best_estimator_.predict(X_test)"
   ]
  },
  {
   "cell_type": "code",
   "execution_count": 23,
   "metadata": {},
   "outputs": [
    {
     "data": {
      "text/html": [
       "<div>\n",
       "<style scoped>\n",
       "    .dataframe tbody tr th:only-of-type {\n",
       "        vertical-align: middle;\n",
       "    }\n",
       "\n",
       "    .dataframe tbody tr th {\n",
       "        vertical-align: top;\n",
       "    }\n",
       "\n",
       "    .dataframe thead th {\n",
       "        text-align: right;\n",
       "    }\n",
       "</style>\n",
       "<table border=\"1\" class=\"dataframe\">\n",
       "  <thead>\n",
       "    <tr style=\"text-align: right;\">\n",
       "      <th></th>\n",
       "      <th>mean_fit_time</th>\n",
       "      <th>std_fit_time</th>\n",
       "      <th>mean_score_time</th>\n",
       "      <th>std_score_time</th>\n",
       "      <th>param_C</th>\n",
       "      <th>param_kernel</th>\n",
       "      <th>params</th>\n",
       "      <th>split0_test_score</th>\n",
       "      <th>split1_test_score</th>\n",
       "      <th>split2_test_score</th>\n",
       "      <th>split3_test_score</th>\n",
       "      <th>split4_test_score</th>\n",
       "      <th>mean_test_score</th>\n",
       "      <th>std_test_score</th>\n",
       "      <th>rank_test_score</th>\n",
       "    </tr>\n",
       "  </thead>\n",
       "  <tbody>\n",
       "    <tr>\n",
       "      <th>0</th>\n",
       "      <td>1.115202</td>\n",
       "      <td>0.005738</td>\n",
       "      <td>0.188038</td>\n",
       "      <td>0.004143</td>\n",
       "      <td>0.001</td>\n",
       "      <td>rbf</td>\n",
       "      <td>{'C': 0.001, 'kernel': 'rbf'}</td>\n",
       "      <td>0.0</td>\n",
       "      <td>0.00</td>\n",
       "      <td>0.00</td>\n",
       "      <td>0.000000</td>\n",
       "      <td>0.00</td>\n",
       "      <td>0.000000</td>\n",
       "      <td>0.000000</td>\n",
       "      <td>3</td>\n",
       "    </tr>\n",
       "    <tr>\n",
       "      <th>1</th>\n",
       "      <td>49.581522</td>\n",
       "      <td>21.272225</td>\n",
       "      <td>0.585807</td>\n",
       "      <td>0.208941</td>\n",
       "      <td>10</td>\n",
       "      <td>rbf</td>\n",
       "      <td>{'C': 10, 'kernel': 'rbf'}</td>\n",
       "      <td>0.7</td>\n",
       "      <td>0.72</td>\n",
       "      <td>0.74</td>\n",
       "      <td>0.673469</td>\n",
       "      <td>0.64</td>\n",
       "      <td>0.694694</td>\n",
       "      <td>0.035109</td>\n",
       "      <td>1</td>\n",
       "    </tr>\n",
       "    <tr>\n",
       "      <th>2</th>\n",
       "      <td>8.885013</td>\n",
       "      <td>1.887548</td>\n",
       "      <td>0.154199</td>\n",
       "      <td>0.007585</td>\n",
       "      <td>1000</td>\n",
       "      <td>rbf</td>\n",
       "      <td>{'C': 1000.0, 'kernel': 'rbf'}</td>\n",
       "      <td>0.6</td>\n",
       "      <td>0.62</td>\n",
       "      <td>0.64</td>\n",
       "      <td>0.591837</td>\n",
       "      <td>0.56</td>\n",
       "      <td>0.602367</td>\n",
       "      <td>0.026976</td>\n",
       "      <td>2</td>\n",
       "    </tr>\n",
       "  </tbody>\n",
       "</table>\n",
       "</div>"
      ],
      "text/plain": [
       "   mean_fit_time  std_fit_time  mean_score_time  std_score_time param_C  \\\n",
       "0       1.115202      0.005738         0.188038        0.004143   0.001   \n",
       "1      49.581522     21.272225         0.585807        0.208941      10   \n",
       "2       8.885013      1.887548         0.154199        0.007585    1000   \n",
       "\n",
       "  param_kernel                          params  split0_test_score  \\\n",
       "0          rbf   {'C': 0.001, 'kernel': 'rbf'}                0.0   \n",
       "1          rbf      {'C': 10, 'kernel': 'rbf'}                0.7   \n",
       "2          rbf  {'C': 1000.0, 'kernel': 'rbf'}                0.6   \n",
       "\n",
       "   split1_test_score  split2_test_score  split3_test_score  split4_test_score  \\\n",
       "0               0.00               0.00           0.000000               0.00   \n",
       "1               0.72               0.74           0.673469               0.64   \n",
       "2               0.62               0.64           0.591837               0.56   \n",
       "\n",
       "   mean_test_score  std_test_score  rank_test_score  \n",
       "0         0.000000        0.000000                3  \n",
       "1         0.694694        0.035109                1  \n",
       "2         0.602367        0.026976                2  "
      ]
     },
     "execution_count": 23,
     "metadata": {},
     "output_type": "execute_result"
    }
   ],
   "source": [
    "pd.DataFrame(clf_rbf_svc.cv_results_)"
   ]
  },
  {
   "cell_type": "code",
   "execution_count": 24,
   "metadata": {},
   "outputs": [
    {
     "data": {
      "text/plain": [
       "{'C': 10, 'kernel': 'rbf'}"
      ]
     },
     "execution_count": 24,
     "metadata": {},
     "output_type": "execute_result"
    }
   ],
   "source": [
    "clf_rbf_svc.best_params_"
   ]
  },
  {
   "cell_type": "code",
   "execution_count": 25,
   "metadata": {},
   "outputs": [
    {
     "name": "stdout",
     "output_type": "stream",
     "text": [
      "RECALL SCORE: 0.6666666666666666\n"
     ]
    }
   ],
   "source": [
    "pd.DataFrame(clf_rbf_svc.cv_results_)\n",
    "svc_recall_50 = metrics.recall_score(y_test,y_pred)\n",
    "print('RECALL SCORE:',svc_recall_50)"
   ]
  },
  {
   "cell_type": "markdown",
   "metadata": {},
   "source": [
    "## MLP"
   ]
  },
  {
   "cell_type": "code",
   "execution_count": 26,
   "metadata": {},
   "outputs": [],
   "source": [
    "parameters = {'alpha':[1e-6,1e-3,1]}\n",
    "clf_mlp = GridSearchCV(MLPClassifier(hidden_layer_sizes=(10,), random_state=None, max_iter=10000), parameters, scoring = 'recall')\n",
    "clf_mlp.fit(X_train, y_train)\n",
    "y_pred = clf_mlp.best_estimator_.predict(X_test)"
   ]
  },
  {
   "cell_type": "code",
   "execution_count": 27,
   "metadata": {},
   "outputs": [
    {
     "data": {
      "text/html": [
       "<div>\n",
       "<style scoped>\n",
       "    .dataframe tbody tr th:only-of-type {\n",
       "        vertical-align: middle;\n",
       "    }\n",
       "\n",
       "    .dataframe tbody tr th {\n",
       "        vertical-align: top;\n",
       "    }\n",
       "\n",
       "    .dataframe thead th {\n",
       "        text-align: right;\n",
       "    }\n",
       "</style>\n",
       "<table border=\"1\" class=\"dataframe\">\n",
       "  <thead>\n",
       "    <tr style=\"text-align: right;\">\n",
       "      <th></th>\n",
       "      <th>mean_fit_time</th>\n",
       "      <th>std_fit_time</th>\n",
       "      <th>mean_score_time</th>\n",
       "      <th>std_score_time</th>\n",
       "      <th>param_alpha</th>\n",
       "      <th>params</th>\n",
       "      <th>split0_test_score</th>\n",
       "      <th>split1_test_score</th>\n",
       "      <th>split2_test_score</th>\n",
       "      <th>split3_test_score</th>\n",
       "      <th>split4_test_score</th>\n",
       "      <th>mean_test_score</th>\n",
       "      <th>std_test_score</th>\n",
       "      <th>rank_test_score</th>\n",
       "    </tr>\n",
       "  </thead>\n",
       "  <tbody>\n",
       "    <tr>\n",
       "      <th>0</th>\n",
       "      <td>9.695324</td>\n",
       "      <td>3.268341</td>\n",
       "      <td>0.019006</td>\n",
       "      <td>0.009311</td>\n",
       "      <td>1e-06</td>\n",
       "      <td>{'alpha': 1e-06}</td>\n",
       "      <td>0.70</td>\n",
       "      <td>0.72</td>\n",
       "      <td>0.68</td>\n",
       "      <td>0.734694</td>\n",
       "      <td>0.70</td>\n",
       "      <td>0.706939</td>\n",
       "      <td>0.018777</td>\n",
       "      <td>2</td>\n",
       "    </tr>\n",
       "    <tr>\n",
       "      <th>1</th>\n",
       "      <td>7.980797</td>\n",
       "      <td>2.155068</td>\n",
       "      <td>0.020162</td>\n",
       "      <td>0.011093</td>\n",
       "      <td>0.001</td>\n",
       "      <td>{'alpha': 0.001}</td>\n",
       "      <td>0.72</td>\n",
       "      <td>0.82</td>\n",
       "      <td>0.70</td>\n",
       "      <td>0.816327</td>\n",
       "      <td>0.70</td>\n",
       "      <td>0.751265</td>\n",
       "      <td>0.055120</td>\n",
       "      <td>1</td>\n",
       "    </tr>\n",
       "    <tr>\n",
       "      <th>2</th>\n",
       "      <td>8.791607</td>\n",
       "      <td>1.290685</td>\n",
       "      <td>0.016509</td>\n",
       "      <td>0.007825</td>\n",
       "      <td>1</td>\n",
       "      <td>{'alpha': 1}</td>\n",
       "      <td>0.56</td>\n",
       "      <td>0.54</td>\n",
       "      <td>0.56</td>\n",
       "      <td>0.448980</td>\n",
       "      <td>0.42</td>\n",
       "      <td>0.505796</td>\n",
       "      <td>0.059389</td>\n",
       "      <td>3</td>\n",
       "    </tr>\n",
       "  </tbody>\n",
       "</table>\n",
       "</div>"
      ],
      "text/plain": [
       "   mean_fit_time  std_fit_time  mean_score_time  std_score_time param_alpha  \\\n",
       "0       9.695324      3.268341         0.019006        0.009311       1e-06   \n",
       "1       7.980797      2.155068         0.020162        0.011093       0.001   \n",
       "2       8.791607      1.290685         0.016509        0.007825           1   \n",
       "\n",
       "             params  split0_test_score  split1_test_score  split2_test_score  \\\n",
       "0  {'alpha': 1e-06}               0.70               0.72               0.68   \n",
       "1  {'alpha': 0.001}               0.72               0.82               0.70   \n",
       "2      {'alpha': 1}               0.56               0.54               0.56   \n",
       "\n",
       "   split3_test_score  split4_test_score  mean_test_score  std_test_score  \\\n",
       "0           0.734694               0.70         0.706939        0.018777   \n",
       "1           0.816327               0.70         0.751265        0.055120   \n",
       "2           0.448980               0.42         0.505796        0.059389   \n",
       "\n",
       "   rank_test_score  \n",
       "0                2  \n",
       "1                1  \n",
       "2                3  "
      ]
     },
     "execution_count": 27,
     "metadata": {},
     "output_type": "execute_result"
    }
   ],
   "source": [
    "pd.DataFrame(clf_mlp.cv_results_)"
   ]
  },
  {
   "cell_type": "code",
   "execution_count": 28,
   "metadata": {},
   "outputs": [
    {
     "data": {
      "text/plain": [
       "{'alpha': 0.001}"
      ]
     },
     "execution_count": 28,
     "metadata": {},
     "output_type": "execute_result"
    }
   ],
   "source": [
    "clf_mlp.best_params_"
   ]
  },
  {
   "cell_type": "code",
   "execution_count": 29,
   "metadata": {},
   "outputs": [
    {
     "name": "stdout",
     "output_type": "stream",
     "text": [
      "RECALL SCORE: 0.7283950617283951\n"
     ]
    }
   ],
   "source": [
    "pd.DataFrame(clf_mlp.cv_results_)\n",
    "mlp_recall_50 = metrics.recall_score(y_test,y_pred)\n",
    "print('RECALL SCORE:',mlp_recall_50)"
   ]
  },
  {
   "cell_type": "markdown",
   "metadata": {},
   "source": [
    "# 5. [20 pts] Attempt avoiding overfitting while the training is reduced. \n",
    "Add splits 40-60, 30-70, 20-80, 10-90, 5-95 and repeat step 3 and step 4."
   ]
  },
  {
   "cell_type": "markdown",
   "metadata": {},
   "source": [
    "Let's make a function that will run through all three: DecisionTreeClassifier, SVC, MLPClassifier so we avoid repeated code and bugs:"
   ]
  },
  {
   "cell_type": "code",
   "execution_count": 30,
   "metadata": {},
   "outputs": [],
   "source": [
    "\n",
    "from sklearn.model_selection import GridSearchCV\n",
    "import matplotlib.pyplot as plt\n",
    "import pandas as pd\n",
    "import math\n",
    "import numpy as np\n",
    "from sklearn.model_selection import train_test_split\n",
    "from sklearn.metrics import confusion_matrix\n",
    "from sklearn import metrics\n",
    "from sklearn import tree\n",
    "from sklearn import svm\n",
    "from sklearn.neural_network import MLPClassifier\n",
    "\n",
    "\n",
    "def trainSweep3Models(test_per, X,y):\n",
    "    \n",
    "    X_train, X_test, y_train, y_test = train_test_split(X, y, test_size=test_per, random_state=0)\n",
    "    \n",
    "    ###################\n",
    "    ## Decision Tree ##\n",
    "    ###################\n",
    "    parameters = {'ccp_alpha':[1e-12, 1e-9, 1e-6, 1e-3]}\n",
    "    clf_dt = GridSearchCV(tree.DecisionTreeClassifier(random_state=0), parameters, scoring = 'recall')\n",
    "    clf_dt.fit(X_train, y_train)\n",
    "    fig = plt.subplots(nrows=1, ncols=1)\n",
    "    tree.plot_tree(clf_dt.best_estimator_,\n",
    "                class_names=list(map(lambda x: str(x), df['Class'].unique())),\n",
    "                filled = True)\n",
    "    plt.show()\n",
    "    y_pred = clf_dt.best_estimator_.predict(X_test)\n",
    "    dt_recall = metrics.recall_score(y_test,y_pred)\n",
    "    print(pd.DataFrame(clf_dt.cv_results_))\n",
    "    print('Decision Tree RECALL SCORE:', dt_recall)\n",
    "    print()\n",
    "\n",
    "    #########\n",
    "    ## SVC ##\n",
    "    #########\n",
    "\n",
    "    parameters = {'kernel':['rbf'], 'C':[1e-3,10,1e3]}\n",
    "    clf_svc = GridSearchCV(svm.SVC(), parameters, scoring = 'recall')\n",
    "    clf_svc.fit(X_train, y_train)\n",
    "    y_pred =    clf_svc.best_estimator_.predict(X_test)\n",
    "    svc_recall = metrics.recall_score(y_test,y_pred)\n",
    "    print(pd.DataFrame(clf_svc.cv_results_))\n",
    "    print('SVC RECALL SCORE:',svc_recall)\n",
    "    print()\n",
    "\n",
    "    #########\n",
    "    ## MLP ##\n",
    "    #########\n",
    "\n",
    "    parameters = {'alpha':[1e-12,1e-9,1e-6,1e-3,1]}\n",
    "    clf_mlp = GridSearchCV(MLPClassifier(hidden_layer_sizes=(10,), random_state=None, max_iter=10000), parameters, scoring = 'recall')\n",
    "    clf_mlp.fit(X_train, y_train)\n",
    "    y_pred = clf_mlp.best_estimator_.predict(X_test)\n",
    "    mlp_recall = metrics.recall_score(y_test,y_pred)\n",
    "    print(pd.DataFrame(clf_mlp.cv_results_))\n",
    "    print('MLP RECALL SCORE:',mlp_recall)\n",
    "    print()\n",
    "\n",
    "    return dt_recall, svc_recall, mlp_recall, clf_dt, clf_svc, clf_mlp"
   ]
  },
  {
   "cell_type": "markdown",
   "metadata": {},
   "source": [
    "# 40-60\n",
    "---"
   ]
  },
  {
   "cell_type": "code",
   "execution_count": 31,
   "metadata": {
    "scrolled": false
   },
   "outputs": [
    {
     "data": {
      "image/png": "[encoded data removed]",
      "text/plain": [
       "<Figure size 432x288 with 1 Axes>"
      ]
     },
     "metadata": {
      "needs_background": "light"
     },
     "output_type": "display_data"
    },
    {
     "name": "stdout",
     "output_type": "stream",
     "text": [
      "   mean_fit_time  std_fit_time  mean_score_time  std_score_time  \\\n",
      "0       0.833802      0.311184         0.009400        0.005252   \n",
      "1       1.130538      0.317382         0.008584        0.003235   \n",
      "2       0.575056      0.073921         0.003678        0.003718   \n",
      "3       0.570828      0.074121         0.004506        0.004716   \n",
      "\n",
      "  param_ccp_alpha                params  split0_test_score  split1_test_score  \\\n",
      "0           1e-12  {'ccp_alpha': 1e-12}           0.820513           0.769231   \n",
      "1           1e-09  {'ccp_alpha': 1e-09}           0.820513           0.769231   \n",
      "2           1e-06  {'ccp_alpha': 1e-06}           0.820513           0.769231   \n",
      "3           0.001  {'ccp_alpha': 0.001}           0.769231           0.615385   \n",
      "\n",
      "   split2_test_score  split3_test_score  split4_test_score  mean_test_score  \\\n",
      "0           0.763158           0.815789           0.692308         0.772200   \n",
      "1           0.763158           0.815789           0.692308         0.772200   \n",
      "2           0.763158           0.815789           0.692308         0.772200   \n",
      "3           0.710526           0.631579           0.692308         0.683806   \n",
      "\n",
      "   std_test_score  rank_test_score  \n",
      "0        0.046276                1  \n",
      "1        0.046276                1  \n",
      "2        0.046276                1  \n",
      "3        0.055665                4  \n",
      "Decision Tree RECALL SCORE: 0.7090301003344481\n",
      "\n",
      "   mean_fit_time  std_fit_time  mean_score_time  std_score_time param_C  \\\n",
      "0       0.667450      0.009538         0.117412        0.004151   0.001   \n",
      "1      29.089120     18.206888         0.325293        0.129291      10   \n",
      "2       5.393809      1.315111         0.155988        0.052788    1000   \n",
      "\n",
      "  param_kernel                          params  split0_test_score  \\\n",
      "0          rbf   {'C': 0.001, 'kernel': 'rbf'}           0.000000   \n",
      "1          rbf      {'C': 10, 'kernel': 'rbf'}           0.589744   \n",
      "2          rbf  {'C': 1000.0, 'kernel': 'rbf'}           0.512821   \n",
      "\n",
      "   split1_test_score  split2_test_score  split3_test_score  split4_test_score  \\\n",
      "0           0.000000           0.000000           0.000000           0.000000   \n",
      "1           0.666667           0.736842           0.605263           0.641026   \n",
      "2           0.564103           0.552632           0.526316           0.564103   \n",
      "\n",
      "   mean_test_score  std_test_score  rank_test_score  \n",
      "0         0.000000        0.000000                3  \n",
      "1         0.647908        0.051981                1  \n",
      "2         0.543995        0.020821                2  \n",
      "SVC RECALL SCORE: 0.6622073578595318\n",
      "\n",
      "   mean_fit_time  std_fit_time  mean_score_time  std_score_time param_alpha  \\\n",
      "0       6.336075      0.722399         0.015350        0.008056       1e-12   \n",
      "1       7.106374      1.064603         0.014103        0.004965       1e-09   \n",
      "2       6.614375      2.063258         0.011687        0.003218       1e-06   \n",
      "3       6.196735      1.782607         0.016139        0.008108       0.001   \n",
      "4       8.097132      1.237926         0.015528        0.004529           1   \n",
      "\n",
      "             params  split0_test_score  split1_test_score  split2_test_score  \\\n",
      "0  {'alpha': 1e-12}           0.615385           0.717949           0.763158   \n",
      "1  {'alpha': 1e-09}           0.769231           0.641026           0.763158   \n",
      "2  {'alpha': 1e-06}           0.717949           0.743590           0.736842   \n",
      "3  {'alpha': 0.001}           0.794872           0.692308           0.736842   \n",
      "4      {'alpha': 1}           0.564103           0.512821           0.500000   \n",
      "\n",
      "   split3_test_score  split4_test_score  mean_test_score  std_test_score  \\\n",
      "0           0.815789           0.717949         0.726046        0.066043   \n",
      "1           0.815789           0.564103         0.710661        0.093345   \n",
      "2           0.657895           0.743590         0.719973        0.032428   \n",
      "3           0.763158           0.743590         0.746154        0.033631   \n",
      "4           0.473684           0.410256         0.492173        0.050425   \n",
      "\n",
      "   rank_test_score  \n",
      "0                2  \n",
      "1                4  \n",
      "2                3  \n",
      "3                1  \n",
      "4                5  \n",
      "MLP RECALL SCORE: 0.7090301003344481\n",
      "\n"
     ]
    }
   ],
   "source": [
    "dt_recall_40, svc_recall_40, mlp_recall_40, clf_dt_40, clf_svc_40, clf_mlp_40 = trainSweep3Models(0.6,X,y)"
   ]
  },
  {
   "cell_type": "markdown",
   "metadata": {},
   "source": [
    "## 30-70"
   ]
  },
  {
   "cell_type": "code",
   "execution_count": 32,
   "metadata": {
    "scrolled": false
   },
   "outputs": [
    {
     "data": {
      "image/png": "[encoded data removed]",
      "text/plain": [
       "<Figure size 432x288 with 1 Axes>"
      ]
     },
     "metadata": {
      "needs_background": "light"
     },
     "output_type": "display_data"
    },
    {
     "name": "stdout",
     "output_type": "stream",
     "text": [
      "   mean_fit_time  std_fit_time  mean_score_time  std_score_time  \\\n",
      "0       0.882862      0.084844         0.009606        0.000842   \n",
      "1       0.424304      0.053612         0.005717        0.003938   \n",
      "2       0.428050      0.053602         0.002890        0.003774   \n",
      "3       0.425102      0.057633         0.003672        0.004548   \n",
      "\n",
      "  param_ccp_alpha                params  split0_test_score  split1_test_score  \\\n",
      "0           1e-12  {'ccp_alpha': 1e-12}           0.838710           0.548387   \n",
      "1           1e-09  {'ccp_alpha': 1e-09}           0.838710           0.548387   \n",
      "2           1e-06  {'ccp_alpha': 1e-06}           0.838710           0.548387   \n",
      "3           0.001  {'ccp_alpha': 0.001}           0.677419           0.677419   \n",
      "\n",
      "   split2_test_score  split3_test_score  split4_test_score  mean_test_score  \\\n",
      "0           0.774194           0.774194           0.741935         0.735484   \n",
      "1           0.774194           0.774194           0.741935         0.735484   \n",
      "2           0.774194           0.774194           0.741935         0.735484   \n",
      "3           0.612903           0.677419           0.709677         0.670968   \n",
      "\n",
      "   std_test_score  rank_test_score  \n",
      "0        0.098691                1  \n",
      "1        0.098691                1  \n",
      "2        0.098691                1  \n",
      "3        0.031606                4  \n",
      "Decision Tree RECALL SCORE: 0.7270029673590505\n",
      "\n",
      "   mean_fit_time  std_fit_time  mean_score_time  std_score_time param_C  \\\n",
      "0       0.385474      0.008150         0.071493        0.000520   0.001   \n",
      "1       2.491883      0.786337         0.222881        0.102690      10   \n",
      "2       2.021624      0.492111         0.082992        0.029563    1000   \n",
      "\n",
      "  param_kernel                          params  split0_test_score  \\\n",
      "0          rbf   {'C': 0.001, 'kernel': 'rbf'}           0.000000   \n",
      "1          rbf      {'C': 10, 'kernel': 'rbf'}           0.709677   \n",
      "2          rbf  {'C': 1000.0, 'kernel': 'rbf'}           0.483871   \n",
      "\n",
      "   split1_test_score  split2_test_score  split3_test_score  split4_test_score  \\\n",
      "0           0.000000           0.000000           0.000000           0.000000   \n",
      "1           0.677419           0.612903           0.612903           0.677419   \n",
      "2           0.451613           0.483871           0.516129           0.483871   \n",
      "\n",
      "   mean_test_score  std_test_score  rank_test_score  \n",
      "0         0.000000        0.000000                3  \n",
      "1         0.658065        0.038710                1  \n",
      "2         0.483871        0.020402                2  \n",
      "SVC RECALL SCORE: 0.6320474777448071\n",
      "\n",
      "   mean_fit_time  std_fit_time  mean_score_time  std_score_time param_alpha  \\\n",
      "0       5.995979      1.392875         0.009666        0.005909       1e-12   \n",
      "1       6.015510      1.296429         0.008887        0.009266       1e-09   \n",
      "2       5.618761      1.673915         0.012086        0.003111       1e-06   \n",
      "3       5.577127      1.835230         0.009260        0.006467       0.001   \n",
      "4       6.895434      1.617318         0.010515        0.009644           1   \n",
      "\n",
      "             params  split0_test_score  split1_test_score  split2_test_score  \\\n",
      "0  {'alpha': 1e-12}           0.741935           0.709677           0.806452   \n",
      "1  {'alpha': 1e-09}           0.741935           0.709677           0.806452   \n",
      "2  {'alpha': 1e-06}           0.774194           0.677419           0.774194   \n",
      "3  {'alpha': 0.001}           0.806452           0.677419           0.806452   \n",
      "4      {'alpha': 1}           0.741935           0.580645           0.451613   \n",
      "\n",
      "   split3_test_score  split4_test_score  mean_test_score  std_test_score  \\\n",
      "0           0.612903           0.741935         0.722581        0.063213   \n",
      "1           0.516129           0.741935         0.703226        0.098691   \n",
      "2           0.774194           0.709677         0.741935        0.040804   \n",
      "3           0.612903           0.709677         0.722581        0.075238   \n",
      "4           0.419355           0.516129         0.541935        0.114323   \n",
      "\n",
      "   rank_test_score  \n",
      "0                2  \n",
      "1                4  \n",
      "2                1  \n",
      "3                2  \n",
      "4                5  \n",
      "MLP RECALL SCORE: 0.7181008902077152\n",
      "\n",
      "Wall time: 3min 34s\n"
     ]
    }
   ],
   "source": [
    "%%time\n",
    "dt_recall_30, svc_recall_30, mlp_recall_30, clf_dt_30, clf_svc_30, clf_mlp_30 = trainSweep3Models(0.7,X,y)"
   ]
  },
  {
   "cell_type": "markdown",
   "metadata": {},
   "source": [
    "## 20-80"
   ]
  },
  {
   "cell_type": "code",
   "execution_count": 33,
   "metadata": {
    "scrolled": false
   },
   "outputs": [
    {
     "data": {
      "image/png": "[encoded data removed]",
      "text/plain": [
       "<Figure size 432x288 with 1 Axes>"
      ]
     },
     "metadata": {
      "needs_background": "light"
     },
     "output_type": "display_data"
    },
    {
     "name": "stdout",
     "output_type": "stream",
     "text": [
      "   mean_fit_time  std_fit_time  mean_score_time  std_score_time  \\\n",
      "0       0.292497      0.055407         0.002630        0.002985   \n",
      "1       0.267818      0.041401         0.001612        0.003225   \n",
      "2       0.267684      0.041331         0.003671        0.004546   \n",
      "3       0.267721      0.041403         0.002034        0.003122   \n",
      "\n",
      "  param_ccp_alpha                params  split0_test_score  split1_test_score  \\\n",
      "0           1e-12  {'ccp_alpha': 1e-12}           0.761905                0.7   \n",
      "1           1e-09  {'ccp_alpha': 1e-09}           0.761905                0.7   \n",
      "2           1e-06  {'ccp_alpha': 1e-06}           0.761905                0.7   \n",
      "3           0.001  {'ccp_alpha': 0.001}           0.714286                0.6   \n",
      "\n",
      "   split2_test_score  split3_test_score  split4_test_score  mean_test_score  \\\n",
      "0                0.7                0.7                0.6         0.692381   \n",
      "1                0.7                0.7                0.6         0.692381   \n",
      "2                0.7                0.7                0.6         0.692381   \n",
      "3                0.6                0.7                0.7         0.662857   \n",
      "\n",
      "   std_test_score  rank_test_score  \n",
      "0        0.052042                1  \n",
      "1        0.052042                1  \n",
      "2        0.052042                1  \n",
      "3        0.051587                4  \n",
      "Decision Tree RECALL SCORE: 0.7391304347826086\n",
      "\n",
      "   mean_fit_time  std_fit_time  mean_score_time  std_score_time param_C  \\\n",
      "0       0.364402      0.030798         0.071800        0.000034   0.001   \n",
      "1       0.946576      0.423275         0.083705        0.036339      10   \n",
      "2       0.535140      0.091666         0.033790        0.003884    1000   \n",
      "\n",
      "  param_kernel                          params  split0_test_score  \\\n",
      "0          rbf   {'C': 0.001, 'kernel': 'rbf'}           0.000000   \n",
      "1          rbf      {'C': 10, 'kernel': 'rbf'}           0.428571   \n",
      "2          rbf  {'C': 1000.0, 'kernel': 'rbf'}           0.238095   \n",
      "\n",
      "   split1_test_score  split2_test_score  split3_test_score  split4_test_score  \\\n",
      "0               0.00               0.00               0.00               0.00   \n",
      "1               0.60               0.60               0.60               0.55   \n",
      "2               0.45               0.55               0.55               0.45   \n",
      "\n",
      "   mean_test_score  std_test_score  rank_test_score  \n",
      "0         0.000000        0.000000                3  \n",
      "1         0.555714        0.066455                1  \n",
      "2         0.447619        0.113908                2  \n",
      "SVC RECALL SCORE: 0.59846547314578\n",
      "\n",
      "   mean_fit_time  std_fit_time  mean_score_time  std_score_time param_alpha  \\\n",
      "0       4.465394      1.668196         0.006466        0.007824       1e-12   \n",
      "1       3.994683      1.130143         0.006471        0.004505       1e-09   \n",
      "2       4.668055      1.148502         0.008048        0.004024       1e-06   \n",
      "3       3.794314      1.360751         0.008052        0.004026       0.001   \n",
      "4       6.537470      1.659304         0.008282        0.004163           1   \n",
      "\n",
      "             params  split0_test_score  split1_test_score  split2_test_score  \\\n",
      "0  {'alpha': 1e-12}           0.619048               0.70               0.65   \n",
      "1  {'alpha': 1e-09}           0.761905               0.80               0.80   \n",
      "2  {'alpha': 1e-06}           0.857143               0.75               0.80   \n",
      "3  {'alpha': 0.001}           0.761905               0.80               0.75   \n",
      "4      {'alpha': 1}           0.571429               0.00               0.45   \n",
      "\n",
      "   split3_test_score  split4_test_score  mean_test_score  std_test_score  \\\n",
      "0               0.65               0.75         0.673810        0.046095   \n",
      "1               0.70               0.70         0.752381        0.044974   \n",
      "2               0.65               0.70         0.751429        0.072759   \n",
      "3               0.70               0.65         0.732381        0.052134   \n",
      "4               0.50               0.45         0.394286        0.202101   \n",
      "\n",
      "   rank_test_score  \n",
      "0                4  \n",
      "1                1  \n",
      "2                2  \n",
      "3                3  \n",
      "4                5  \n",
      "MLP RECALL SCORE: 0.7058823529411765\n",
      "\n",
      "Wall time: 2min 27s\n"
     ]
    }
   ],
   "source": [
    "%%time\n",
    "dt_recall_20, svc_recall_20, mlp_recall_20, clf_dt_20, clf_svc_20, clf_mlp_20 = trainSweep3Models(0.8,X,y)"
   ]
  },
  {
   "cell_type": "markdown",
   "metadata": {},
   "source": [
    "## 10-90"
   ]
  },
  {
   "cell_type": "code",
   "execution_count": 34,
   "metadata": {
    "scrolled": false
   },
   "outputs": [
    {
     "data": {
      "image/png": "[encoded data removed]",
      "text/plain": [
       "<Figure size 432x288 with 1 Axes>"
      ]
     },
     "metadata": {
      "needs_background": "light"
     },
     "output_type": "display_data"
    },
    {
     "name": "stdout",
     "output_type": "stream",
     "text": [
      "   mean_fit_time  std_fit_time  mean_score_time  std_score_time  \\\n",
      "0       0.089209      0.011542         0.002873        0.002742   \n",
      "1       0.084925      0.008678         0.002464        0.002957   \n",
      "2       0.086991      0.012324         0.000824        0.001010   \n",
      "3       0.087396      0.009784         0.000425        0.000851   \n",
      "\n",
      "  param_ccp_alpha                params  split0_test_score  split1_test_score  \\\n",
      "0           1e-12  {'ccp_alpha': 1e-12}                0.9                0.7   \n",
      "1           1e-09  {'ccp_alpha': 1e-09}                0.9                0.7   \n",
      "2           1e-06  {'ccp_alpha': 1e-06}                0.9                0.7   \n",
      "3           0.001  {'ccp_alpha': 0.001}                0.7                0.7   \n",
      "\n",
      "   split2_test_score  split3_test_score  split4_test_score  mean_test_score  \\\n",
      "0                0.8                0.7           0.545455         0.729091   \n",
      "1                0.8                0.7           0.545455         0.729091   \n",
      "2                0.8                0.7           0.545455         0.729091   \n",
      "3                0.7                0.8           0.545455         0.689091   \n",
      "\n",
      "   std_test_score  rank_test_score  \n",
      "0        0.118028                1  \n",
      "1        0.118028                1  \n",
      "2        0.118028                1  \n",
      "3        0.081596                4  \n",
      "Decision Tree RECALL SCORE: 0.6757369614512472\n",
      "\n",
      "   mean_fit_time  std_fit_time  mean_score_time  std_score_time param_C  \\\n",
      "0       0.043070      0.003277         0.010393        0.000289   0.001   \n",
      "1       0.313216      0.111613         0.037794        0.018158      10   \n",
      "2       0.383016      0.044086         0.022554        0.003126    1000   \n",
      "\n",
      "  param_kernel                          params  split0_test_score  \\\n",
      "0          rbf   {'C': 0.001, 'kernel': 'rbf'}                0.0   \n",
      "1          rbf      {'C': 10, 'kernel': 'rbf'}                0.5   \n",
      "2          rbf  {'C': 1000.0, 'kernel': 'rbf'}                0.4   \n",
      "\n",
      "   split1_test_score  split2_test_score  split3_test_score  split4_test_score  \\\n",
      "0                0.0                0.0                0.0           0.000000   \n",
      "1                0.5                0.6                0.7           0.363636   \n",
      "2                0.4                0.5                0.6           0.272727   \n",
      "\n",
      "   mean_test_score  std_test_score  rank_test_score  \n",
      "0         0.000000        0.000000                3  \n",
      "1         0.532727        0.112463                1  \n",
      "2         0.434545        0.109756                2  \n",
      "SVC RECALL SCORE: 0.37188208616780044\n",
      "\n",
      "   mean_fit_time  std_fit_time  mean_score_time  std_score_time param_alpha  \\\n",
      "0       3.184186      0.869969         0.001607        0.003214       1e-12   \n",
      "1       3.105401      0.814042         0.004462        0.004699       1e-09   \n",
      "2       2.912699      0.987982         0.000406        0.000812       1e-06   \n",
      "3       3.170405      1.052828         0.000810        0.000992       0.001   \n",
      "4       4.911608      1.190577         0.006467        0.004500           1   \n",
      "\n",
      "             params  split0_test_score  split1_test_score  split2_test_score  \\\n",
      "0  {'alpha': 1e-12}                0.7                0.6                0.8   \n",
      "1  {'alpha': 1e-09}                0.6                0.7                0.6   \n",
      "2  {'alpha': 1e-06}                0.6                0.6                0.6   \n",
      "3  {'alpha': 0.001}                0.6                0.6                0.8   \n",
      "4      {'alpha': 1}                0.4                0.3                0.5   \n",
      "\n",
      "   split3_test_score  split4_test_score  mean_test_score  std_test_score  \\\n",
      "0                0.6           0.545455         0.649091        0.090472   \n",
      "1                0.7           0.727273         0.665455        0.054363   \n",
      "2                0.6           0.545455         0.589091        0.021818   \n",
      "3                0.7           0.727273         0.685455        0.077053   \n",
      "4                0.4           0.454545         0.410909        0.066903   \n",
      "\n",
      "   rank_test_score  \n",
      "0                3  \n",
      "1                2  \n",
      "2                4  \n",
      "3                1  \n",
      "4                5  \n",
      "MLP RECALL SCORE: 0.6961451247165533\n",
      "\n",
      "Wall time: 1min 40s\n"
     ]
    }
   ],
   "source": [
    "%%time\n",
    "dt_recall_10, svc_recall_10, mlp_recall_10, clf_dt_10, clf_svc_10, clf_mlp_10 = trainSweep3Models(0.9,X,y)"
   ]
  },
  {
   "cell_type": "markdown",
   "metadata": {},
   "source": [
    "## 5-95"
   ]
  },
  {
   "cell_type": "code",
   "execution_count": 35,
   "metadata": {},
   "outputs": [
    {
     "data": {
      "image/png": "[encoded data removed]",
      "text/plain": [
       "<Figure size 432x288 with 1 Axes>"
      ]
     },
     "metadata": {
      "needs_background": "light"
     },
     "output_type": "display_data"
    },
    {
     "name": "stdout",
     "output_type": "stream",
     "text": [
      "   mean_fit_time  std_fit_time  mean_score_time  std_score_time  \\\n",
      "0       0.019331      0.004102         0.001610        0.003221   \n",
      "1       0.022391      0.004203         0.000822        0.000785   \n",
      "2       0.020691      0.000729         0.000410        0.000820   \n",
      "3       0.020410      0.001336         0.002046        0.003143   \n",
      "\n",
      "  param_ccp_alpha                params  split0_test_score  split1_test_score  \\\n",
      "0           1e-12  {'ccp_alpha': 1e-12}                1.0                0.8   \n",
      "1           1e-09  {'ccp_alpha': 1e-09}                1.0                0.8   \n",
      "2           1e-06  {'ccp_alpha': 1e-06}                1.0                0.8   \n",
      "3           0.001  {'ccp_alpha': 0.001}                0.8                0.8   \n",
      "\n",
      "   split2_test_score  split3_test_score  split4_test_score  mean_test_score  \\\n",
      "0                0.6                0.6           0.666667         0.733333   \n",
      "1                0.6                0.6           0.666667         0.733333   \n",
      "2                0.6                0.6           0.666667         0.733333   \n",
      "3                0.8                0.6           0.500000         0.700000   \n",
      "\n",
      "   std_test_score  rank_test_score  \n",
      "0        0.152023                1  \n",
      "1        0.152023                1  \n",
      "2        0.152023                1  \n",
      "3        0.126491                4  \n",
      "Decision Tree RECALL SCORE: 0.7339055793991416\n",
      "\n",
      "   mean_fit_time  std_fit_time  mean_score_time  std_score_time param_C  \\\n",
      "0       0.012271      0.003100         0.004524        0.004735   0.001   \n",
      "1       0.065304      0.005160         0.010182        0.000110      10   \n",
      "2       0.037079      0.010657         0.007547        0.003857    1000   \n",
      "\n",
      "  param_kernel                          params  split0_test_score  \\\n",
      "0          rbf   {'C': 0.001, 'kernel': 'rbf'}                0.0   \n",
      "1          rbf      {'C': 10, 'kernel': 'rbf'}                0.6   \n",
      "2          rbf  {'C': 1000.0, 'kernel': 'rbf'}                0.2   \n",
      "\n",
      "   split1_test_score  split2_test_score  split3_test_score  split4_test_score  \\\n",
      "0                0.0                0.0                0.0           0.000000   \n",
      "1                0.8                0.4                0.4           0.333333   \n",
      "2                0.2                0.0                0.2           0.333333   \n",
      "\n",
      "   mean_test_score  std_test_score  rank_test_score  \n",
      "0         0.000000        0.000000                3  \n",
      "1         0.506667        0.171788                1  \n",
      "2         0.186667        0.106667                2  \n",
      "SVC RECALL SCORE: 0.26824034334763946\n",
      "\n",
      "   mean_fit_time  std_fit_time  mean_score_time  std_score_time param_alpha  \\\n",
      "0       2.584870      1.098199         0.003211        0.003933       1e-12   \n",
      "1       2.445270      1.020934         0.001619        0.000810       1e-09   \n",
      "2       2.682580      0.624576         0.000000        0.000000       1e-06   \n",
      "3       2.507543      0.794492         0.003228        0.003502       0.001   \n",
      "4       3.407102      1.028777         0.005655        0.004681           1   \n",
      "\n",
      "             params  split0_test_score  split1_test_score  split2_test_score  \\\n",
      "0  {'alpha': 1e-12}                0.8                0.4                0.6   \n",
      "1  {'alpha': 1e-09}                0.6                0.8                0.0   \n",
      "2  {'alpha': 1e-06}                0.8                0.6                0.6   \n",
      "3  {'alpha': 0.001}                0.6                0.4                0.6   \n",
      "4      {'alpha': 1}                0.8                0.8                0.2   \n",
      "\n",
      "   split3_test_score  split4_test_score  mean_test_score  std_test_score  \\\n",
      "0                0.6           0.500000         0.580000        0.132665   \n",
      "1                0.6           0.666667         0.533333        0.276486   \n",
      "2                0.6           0.333333         0.586667        0.148474   \n",
      "3                0.6           0.666667         0.573333        0.090431   \n",
      "4                0.6           0.666667         0.613333        0.220706   \n",
      "\n",
      "   rank_test_score  \n",
      "0                3  \n",
      "1                5  \n",
      "2                2  \n",
      "3                4  \n",
      "4                1  \n",
      "MLP RECALL SCORE: 0.5278969957081545\n",
      "\n",
      "Wall time: 1min 16s\n"
     ]
    }
   ],
   "source": [
    "%%time\n",
    "dt_recall_5, svc_recall_5, mlp_recall_5, clf_dt_5, clf_svc_5, clf_mlp_5 = trainSweep3Models(0.95,X,y)"
   ]
  },
  {
   "cell_type": "markdown",
   "metadata": {},
   "source": [
    "# 6. [20 pts] Plot everything you have on a single plot and comment about your results in terms of training size, regularization, etc."
   ]
  },
  {
   "cell_type": "code",
   "execution_count": 36,
   "metadata": {
    "scrolled": false
   },
   "outputs": [
    {
     "data": {
      "image/png": "[encoded data removed]",
      "text/plain": [
       "<Figure size 1080x720 with 1 Axes>"
      ]
     },
     "metadata": {
      "needs_background": "light"
     },
     "output_type": "display_data"
    }
   ],
   "source": [
    "trainingSize = [0.5,0.4,0.3,0.2,0.1,0.05]\n",
    "recall_dt = [dt_recall_50, dt_recall_40,dt_recall_30,dt_recall_20,dt_recall_10,dt_recall_5]\n",
    "recall_svc = [svc_recall_50, svc_recall_40,svc_recall_30,svc_recall_20,svc_recall_10,svc_recall_5]\n",
    "recall_mlp =  [mlp_recall_50,mlp_recall_40,mlp_recall_30,mlp_recall_20,mlp_recall_10,mlp_recall_5]\n",
    "# Plot\n",
    "plt.figure(figsize=(15,10))\n",
    "plt.plot(trainingSize, recall_dt, ':', color='red', label='Decision Tree')\n",
    "plt.plot(trainingSize, recall_svc, ':', color='green', label='SVC')\n",
    "plt.plot(trainingSize, recall_mlp, ':', color='blue', label='MLP')\n",
    "\n",
    "# Labels\n",
    "plt.title('Recall versus training size')\n",
    "plt.xlabel('Training Percent')\n",
    "plt.ylabel('Recall')\n",
    "plt.legend(loc='lower right')\n",
    "plt.grid()\n",
    "plt.show()"
   ]
  },
  {
   "cell_type": "code",
   "execution_count": 37,
   "metadata": {},
   "outputs": [],
   "source": [
    "clf_dt_best_params = [clf.best_params_['ccp_alpha'],\n",
    "                      clf_dt_40.best_params_['ccp_alpha'],\n",
    "                      clf_dt_30.best_params_['ccp_alpha'],\n",
    "                      clf_dt_20.best_params_['ccp_alpha'],\n",
    "                      clf_dt_10.best_params_['ccp_alpha'],\n",
    "                      clf_dt_5.best_params_['ccp_alpha']]\n",
    "clf_svc_best_params = [clf_rbf_svc.best_params_['C'],\n",
    "                       clf_svc_40.best_params_['C'],\n",
    "                       clf_svc_30.best_params_['C'],\n",
    "                       clf_svc_20.best_params_['C'],\n",
    "                       clf_svc_10.best_params_['C'],\n",
    "                       clf_svc_5.best_params_['C']]\n",
    "clf_mlp_best_params = [clf_mlp.best_params_['alpha'],\n",
    "                       clf_mlp_40.best_params_['alpha'],\n",
    "                       clf_mlp_30.best_params_['alpha'],\n",
    "                       clf_mlp_20.best_params_['alpha'],\n",
    "                       clf_mlp_10.best_params_['alpha'],\n",
    "                       clf_mlp_5.best_params_['alpha']]"
   ]
  },
  {
   "cell_type": "code",
   "execution_count": 38,
   "metadata": {},
   "outputs": [
    {
     "data": {
      "text/plain": [
       "[1e-12, 1e-12, 1e-12, 1e-12, 1e-12, 1e-12]"
      ]
     },
     "execution_count": 38,
     "metadata": {},
     "output_type": "execute_result"
    }
   ],
   "source": [
    "clf_dt_best_params"
   ]
  },
  {
   "cell_type": "code",
   "execution_count": 39,
   "metadata": {},
   "outputs": [
    {
     "data": {
      "text/plain": [
       "[10, 10, 10, 10, 10, 10]"
      ]
     },
     "execution_count": 39,
     "metadata": {},
     "output_type": "execute_result"
    }
   ],
   "source": [
    "clf_svc_best_params"
   ]
  },
  {
   "cell_type": "code",
   "execution_count": 40,
   "metadata": {},
   "outputs": [
    {
     "data": {
      "text/plain": [
       "[0.001, 0.001, 1e-06, 1e-09, 0.001, 1]"
      ]
     },
     "execution_count": 40,
     "metadata": {},
     "output_type": "execute_result"
    }
   ],
   "source": [
    "clf_mlp_best_params"
   ]
  },
  {
   "cell_type": "code",
   "execution_count": 41,
   "metadata": {},
   "outputs": [
    {
     "data": {
      "image/png": "[encoded data removed]",
      "text/plain": [
       "<Figure size 432x288 with 1 Axes>"
      ]
     },
     "metadata": {
      "needs_background": "light"
     },
     "output_type": "display_data"
    }
   ],
   "source": [
    "trainingSize = [0.5,0.4,0.3,0.2,0.1,0.05]\n",
    "# Plot\n",
    "plt.plot(trainingSize, clf_dt_best_params, '.', color='red', label='Decision Tree')\n",
    "# plt.plot(trainingSize, clf_svc_best_params, '.', color='green', label='SVC')\n",
    "# plt.plot(trainingSize, clf_mlp_best_params, '.', color='blue', label='MLP')\n",
    "\n",
    "# Labels\n",
    "plt.title('Decision Tree Regularization versus training size')\n",
    "plt.xlabel('Training Percent')\n",
    "plt.ylabel('Regularizaiton')\n",
    "plt.legend(loc='lower right')\n",
    "plt.grid()\n",
    "plt.show()"
   ]
  },
  {
   "cell_type": "code",
   "execution_count": 42,
   "metadata": {},
   "outputs": [
    {
     "data": {
      "image/png": "[encoded data removed]",
      "text/plain": [
       "<Figure size 432x288 with 1 Axes>"
      ]
     },
     "metadata": {
      "needs_background": "light"
     },
     "output_type": "display_data"
    }
   ],
   "source": [
    "trainingSize = [0.5,0.4,0.3,0.2,0.1,0.05]\n",
    "# Plot\n",
    "plt.plot(trainingSize, clf_svc_best_params, '.', color='green', label='SVC')\n",
    "\n",
    "# Labels\n",
    "plt.title('SVM Regularization versus training size')\n",
    "plt.xlabel('Training Percent')\n",
    "plt.ylabel('Regularizaiton')\n",
    "plt.legend(loc='lower right')\n",
    "plt.grid()\n",
    "plt.show()"
   ]
  },
  {
   "cell_type": "code",
   "execution_count": 43,
   "metadata": {},
   "outputs": [
    {
     "data": {
      "image/png": "[encoded data removed]",
      "text/plain": [
       "<Figure size 432x288 with 1 Axes>"
      ]
     },
     "metadata": {
      "needs_background": "light"
     },
     "output_type": "display_data"
    }
   ],
   "source": [
    "trainingSize = [0.5,0.4,0.3,0.2,0.1,0.05]\n",
    "# Plot\n",
    "\n",
    "plt.plot(trainingSize, clf_mlp_best_params, '.', color='blue', label='MLP')\n",
    "\n",
    "# Labels\n",
    "plt.title('MLP Regularization versus training size')\n",
    "plt.xlabel('Training Percent')\n",
    "plt.ylabel('Regularizaiton')\n",
    "plt.legend(loc='lower right')\n",
    "plt.grid()\n",
    "plt.show()"
   ]
  },
  {
   "cell_type": "markdown",
   "metadata": {},
   "source": [
    "Discussion:\n",
    "* It seems that training amount is affects `SVM` the most as an increasing in training size causes increase in `recall` score.\n",
    "* For decision tree and MLP, regularization does not seems to change `recall` versus change in training size.\n",
    "* For decision tree, the best regularization parameter `ccp_alpha` is 1e-12 which is the the least regularization. Thus it seems that increase regularization does not help the model as training size decreases. \n",
    "* For SVC, it seems that the best regularization parameter `C` is 10 which is the least regularization. Thus it seems that increasing regularization does not help the model as training size decreases.\n",
    "* For MLP, it seems that regularization varies at different training percentages but there is no discernable pattern."
   ]
  }
 ],
 "metadata": {
  "kernelspec": {
   "display_name": "Python 3",
   "language": "python",
   "name": "python3"
  },
  "language_info": {
   "codemirror_mode": {
    "name": "ipython",
    "version": 3
   },
   "file_extension": ".py",
   "mimetype": "text/x-python",
   "name": "python",
   "nbconvert_exporter": "python",
   "pygments_lexer": "ipython3",
   "version": "3.7.9"
  }
 },
 "nbformat": 4,
 "nbformat_minor": 4
}
